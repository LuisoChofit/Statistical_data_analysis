{
 "cells": [
  {
   "cell_type": "markdown",
   "metadata": {
    "toc": true
   },
   "source": [
    "<h1>Tabla de contenido<span class=\"tocSkip\"></span></h1>\n",
    "<div class=\"toc\"><ul class=\"toc-item\"><li><span><a href=\"#Introducción.-¿Qué-tarifa-genera-más-ingresos?\" data-toc-modified-id=\"Introducción.-¿Qué-tarifa-genera-más-ingresos?-2\">Introducción. ¿Qué tarifa genera más ingresos?</a></span><ul class=\"toc-item\"><li><span><a href=\"#Descripción-de-las-tarifas\" data-toc-modified-id=\"Descripción-de-las-tarifas-2.1\">Descripción de las tarifas</a></span></li><li><span><a href=\"#Hipótesis\" data-toc-modified-id=\"Hipótesis-2.2\">Hipótesis</a></span></li><li><span><a href=\"#Inicialización\" data-toc-modified-id=\"Inicialización-2.3\">Inicialización</a></span></li><li><span><a href=\"#Cargar-los-datos\" data-toc-modified-id=\"Cargar-los-datos-2.4\">Cargar los datos</a></span><ul class=\"toc-item\"><li><span><a href=\"#Datos-sobre-llamadas\" data-toc-modified-id=\"Datos-sobre-llamadas-2.4.1\">Datos sobre llamadas</a></span><ul class=\"toc-item\"><li><span><a href=\"#Explorar-datos-iniciales\" data-toc-modified-id=\"Explorar-datos-iniciales-2.4.1.1\">Explorar datos iniciales</a></span></li></ul></li><li><span><a href=\"#Datos-sobre-mensajes-SMS\" data-toc-modified-id=\"Datos-sobre-mensajes-SMS-2.4.2\">Datos sobre mensajes SMS</a></span><ul class=\"toc-item\"><li><span><a href=\"#Explorar-datos-iniciales\" data-toc-modified-id=\"Explorar-datos-iniciales-2.4.2.1\">Explorar datos iniciales</a></span></li></ul></li><li><span><a href=\"#Datos-sobre-las-sesiones-web\" data-toc-modified-id=\"Datos-sobre-las-sesiones-web-2.4.3\">Datos sobre las sesiones web</a></span><ul class=\"toc-item\"><li><span><a href=\"#Explorar-datos-iniciales\" data-toc-modified-id=\"Explorar-datos-iniciales-2.4.3.1\">Explorar datos iniciales</a></span></li></ul></li><li><span><a href=\"#Datos-sobre-los-usuarios\" data-toc-modified-id=\"Datos-sobre-los-usuarios-2.4.4\">Datos sobre los usuarios</a></span><ul class=\"toc-item\"><li><span><a href=\"#Explorar-datos-iniciales\" data-toc-modified-id=\"Explorar-datos-iniciales-2.4.4.1\">Explorar datos iniciales</a></span></li></ul></li><li><span><a href=\"#Datos-sobre-las-tarifas\" data-toc-modified-id=\"Datos-sobre-las-tarifas-2.4.5\">Datos sobre las tarifas</a></span><ul class=\"toc-item\"><li><span><a href=\"#Explorar-datos-iniciales\" data-toc-modified-id=\"Explorar-datos-iniciales-2.4.5.1\">Explorar datos iniciales</a></span></li></ul></li><li><span><a href=\"#Conclusiones-y-siguientes-pasos\" data-toc-modified-id=\"Conclusiones-y-siguientes-pasos-2.4.6\">Conclusiones y siguientes pasos</a></span></li></ul></li></ul></li><li><span><a href=\"#Preparar-los-datos\" data-toc-modified-id=\"Preparar-los-datos-3\">Preparar los datos</a></span><ul class=\"toc-item\"><li><span><a href=\"#Encontrar-y-tratar-errores\" data-toc-modified-id=\"Encontrar-y-tratar-errores-3.1\">Encontrar y tratar errores</a></span><ul class=\"toc-item\"><li><span><a href=\"#Errores-en-internet_data\" data-toc-modified-id=\"Errores-en-internet_data-3.1.1\">Errores en <code>internet_data</code></a></span></li><li><span><a href=\"#Errores-en-calls_data\" data-toc-modified-id=\"Errores-en-calls_data-3.1.2\">Errores en <code>calls_data</code></a></span></li></ul></li><li><span><a href=\"#Ordenar-los-datos\" data-toc-modified-id=\"Ordenar-los-datos-3.2\">Ordenar los datos</a></span><ul class=\"toc-item\"><li><span><a href=\"#Agrupar-los-datos-en-una-tabla\" data-toc-modified-id=\"Agrupar-los-datos-en-una-tabla-3.2.1\">Agrupar los datos en una tabla</a></span></li><li><span><a href=\"#Ingresos-mensuales-por-usuario\" data-toc-modified-id=\"Ingresos-mensuales-por-usuario-3.2.2\">Ingresos mensuales por usuario</a></span></li></ul></li></ul></li><li><span><a href=\"#Analizar-los-datos\" data-toc-modified-id=\"Analizar-los-datos-4\">Analizar los datos</a></span><ul class=\"toc-item\"><li><span><a href=\"#Datos-sobre-los-minutos-por-mes\" data-toc-modified-id=\"Datos-sobre-los-minutos-por-mes-4.1\">Datos sobre los minutos por mes</a></span><ul class=\"toc-item\"><li><span><a href=\"#Clientes-de-la-tarifa-Surf\" data-toc-modified-id=\"Clientes-de-la-tarifa-Surf-4.1.1\">Clientes de la tarifa Surf</a></span></li><li><span><a href=\"#Clientes-de-la-tarifa-Ultimate\" data-toc-modified-id=\"Clientes-de-la-tarifa-Ultimate-4.1.2\">Clientes de la tarifa Ultimate</a></span></li></ul></li><li><span><a href=\"#Datos-sobre-los-SMS-enviados-por-mes\" data-toc-modified-id=\"Datos-sobre-los-SMS-enviados-por-mes-4.2\">Datos sobre los SMS enviados por mes</a></span><ul class=\"toc-item\"><li><span><a href=\"#Clientes-de-la-tarifa-Surf\" data-toc-modified-id=\"Clientes-de-la-tarifa-Surf-4.2.1\">Clientes de la tarifa Surf</a></span></li><li><span><a href=\"#Clientes-de-la-tarifa-Ultimate\" data-toc-modified-id=\"Clientes-de-la-tarifa-Ultimate-4.2.2\">Clientes de la tarifa Ultimate</a></span></li></ul></li><li><span><a href=\"#Datos-sobre-los-gigabytes-consumidos\" data-toc-modified-id=\"Datos-sobre-los-gigabytes-consumidos-4.3\">Datos sobre los gigabytes consumidos</a></span><ul class=\"toc-item\"><li><span><a href=\"#Clientes-de-la-tarifa-Surf\" data-toc-modified-id=\"Clientes-de-la-tarifa-Surf-4.3.1\">Clientes de la tarifa Surf</a></span></li><li><span><a href=\"#Clientes-de-la-tarifa-Ultimate\" data-toc-modified-id=\"Clientes-de-la-tarifa-Ultimate-4.3.2\">Clientes de la tarifa Ultimate</a></span></li></ul></li><li><span><a href=\"#Conclusiones-y-siguientes-pasos\" data-toc-modified-id=\"Conclusiones-y-siguientes-pasos-4.4\">Conclusiones y siguientes pasos</a></span></li></ul></li><li><span><a href=\"#Prueba-las-hipótesis\" data-toc-modified-id=\"Prueba-las-hipótesis-5\">Prueba las hipótesis</a></span><ul class=\"toc-item\"><li><span><a href=\"#Primera-hipótesis.-El-ingreso-promedio-entre-usuarios-de-diferentes-tarifas-difiere.\" data-toc-modified-id=\"Primera-hipótesis.-El-ingreso-promedio-entre-usuarios-de-diferentes-tarifas-difiere.-5.1\">Primera hipótesis. El ingreso promedio entre usuarios de diferentes tarifas difiere.</a></span></li><li><span><a href=\"#Segunda-hipótesis.-El-ingreso-promedio-de-los-usuarios-de-NY-y-NJ-difiere-del-resto.\" data-toc-modified-id=\"Segunda-hipótesis.-El-ingreso-promedio-de-los-usuarios-de-NY-y-NJ-difiere-del-resto.-5.2\">Segunda hipótesis. El ingreso promedio de los usuarios de NY y NJ difiere del resto.</a></span></li></ul></li><li><span><a href=\"#Conclusión-general\" data-toc-modified-id=\"Conclusión-general-6\">Conclusión general</a></span></li></ul></div>"
   ]
  },
  {
   "cell_type": "markdown",
   "metadata": {},
   "source": [
    "# Introducción. ¿Qué tarifa genera más ingresos?\n",
    "\n",
    "La empresa de Telecomunicaciones Megaline ofrece a sus clientes dos tarifas de prepago, Surf y Ultimate. El departamento comercial quiere saber cuál de los planes genera más ingresos para ajustar el presupuesto de publicidad."
   ]
  },
  {
   "cell_type": "markdown",
   "metadata": {},
   "source": [
    "## Descripción de las tarifas\n",
    "\n",
    "**Surf**\n",
    " - Pago mensual: 20 dólares.\n",
    " - 500 minutos al mes, 50 SMS, 15 GB de datos.\n",
    " - Si se exceden los límites del paquete:\n",
    "     - 1 minuto: 3 centavos.\n",
    "     - 1 SMS: 3 centavos.\n",
    "     - 1 GB de datos: 10 dólares.\n",
    "     \n",
    "**Ultimate**\n",
    " - Pago menusal: 70 dólares.\n",
    " - 3000 minutos al mes, 1000 SMS y 30 GB de datos.\n",
    " - Si se exceden los límites del paquete:\n",
    "     - 1 minuto: 1 centavo.\n",
    "     - 1 SMS: 1 centavo.\n",
    "     - 1 GB de datos: 7 dólares."
   ]
  },
  {
   "cell_type": "markdown",
   "metadata": {},
   "source": [
    "**Nota:** Megaline redondea los segundos a minutos y los megabytes a gigabytes. Para **llamadas**, cada llamada uindividual se redondea: incluso si la llamada duró solo un segundo, se contará como un minuto. Para **tráfico web**, las sesiones web individuales no se redondean. En vez de esto, el total del mes se redondea hacia arriba. Si alguien usa 1025 megabytes este mes, se le cobrarán 2 gigabytes."
   ]
  },
  {
   "cell_type": "markdown",
   "metadata": {},
   "source": [
    "## Hipótesis\n",
    "\n",
    "En este estudio se pide analizar y probar dos hipótesis:\n",
    "\n",
    "    - El ingreso promedio de los usuarios de las tarifas Ultimate y Surf difiere.\n",
    "    - El ingreso promedio de los usuarios en el área de estados Nueva York - Nueva Jersey es diferente al de los usuarios de otras regiones."
   ]
  },
  {
   "cell_type": "markdown",
   "metadata": {},
   "source": [
    "## Inicialización\n",
    "\n",
    "Empezamos por cargar las librerías que necesitaremos durante el proyecto, en las cuales incluiremos _pandas_ para trabajar con conjuntos de datos, _matplotlib_ para obtener gráficos de nuestros análisis, _scipy_ para análisis estadístico, _numpy_ para métodos matemáticos y _math_ para redondear al alza los minutos y gigabytes."
   ]
  },
  {
   "cell_type": "code",
   "execution_count": 358,
   "metadata": {},
   "outputs": [],
   "source": [
    "# Carga las librerias\n",
    "import pandas as pd\n",
    "import matplotlib.pyplot as plt\n",
    "from scipy import stats as st\n",
    "import numpy as np\n",
    "import math "
   ]
  },
  {
   "cell_type": "markdown",
   "metadata": {},
   "source": [
    "## Cargar los datos\n",
    "\n",
    "Para este estudio tenemos 5 conjuntos de datos que contienen información sobre las llamadas, los SMS, las sesiones web, las tarifas de los distintos planes y los usuarios."
   ]
  },
  {
   "cell_type": "code",
   "execution_count": 359,
   "metadata": {},
   "outputs": [],
   "source": [
    "# Carga los archivos de datos en DataFrames\n",
    "\n",
    "try:\n",
    "    calls_data = pd.read_csv('megaline_calls.csv')\n",
    "    internet_data = pd.read_csv('megaline_internet.csv')\n",
    "    sms_data = pd.read_csv('megaline_messages.csv')\n",
    "    plans_data = pd.read_csv('megaline_plans.csv')\n",
    "    users_data = pd.read_csv('megaline_users.csv')\n",
    "    \n",
    "except:\n",
    "    calls_data = pd.read_csv('/datasets/megaline_calls.csv')\n",
    "    internet_data = pd.read_csv('/datasets/megaline_internet.csv')\n",
    "    sms_data = pd.read_csv('/datasets/megaline_messages.csv')\n",
    "    plans_data = pd.read_csv('/datasets/megaline_plans.csv')\n",
    "    users_data = pd.read_csv('/datasets/megaline_users.csv')"
   ]
  },
  {
   "cell_type": "markdown",
   "metadata": {},
   "source": [
    "### Datos sobre llamadas\n",
    "\n",
    "Veremos información general sobre el DataFrame de datos sobre las llamadas y exploraremos los datos iniciales."
   ]
  },
  {
   "cell_type": "markdown",
   "metadata": {},
   "source": [
    "#### Explorar datos iniciales\n",
    "\n",
    "El Dataset contiene los siguientes campos:\n",
    "\n",
    " - `id` - identificador único de la llamada\n",
    " - `user_id` - identificador único del usuario que realiza la llamada\n",
    " - `call_date` - fecha de la llamada\n",
    " - `duration` - duración de la llamada, en minutos"
   ]
  },
  {
   "cell_type": "code",
   "execution_count": 360,
   "metadata": {},
   "outputs": [
    {
     "name": "stdout",
     "output_type": "stream",
     "text": [
      "<class 'pandas.core.frame.DataFrame'>\n",
      "\n",
      "RangeIndex: 137735 entries, 0 to 137734\n",
      "\n",
      "Data columns (total 4 columns):\n",
      "\n",
      " #   Column     Non-Null Count   Dtype  \n",
      "\n",
      "---  ------     --------------   -----  \n",
      "\n",
      " 0   id         137735 non-null  object \n",
      "\n",
      " 1   user_id    137735 non-null  int64  \n",
      "\n",
      " 2   call_date  137735 non-null  object \n",
      "\n",
      " 3   duration   137735 non-null  float64\n",
      "\n",
      "dtypes: float64(1), int64(1), object(2)\n",
      "\n",
      "memory usage: 4.2+ MB\n"
     ]
    }
   ],
   "source": [
    "# imprime la información general sobre el DataFrame calls_data\n",
    "calls_data.info()"
   ]
  },
  {
   "cell_type": "code",
   "execution_count": 361,
   "metadata": {},
   "outputs": [
    {
     "data": {
      "text/html": [
       "<div>\n",
       "<style scoped>\n",
       "    .dataframe tbody tr th:only-of-type {\n",
       "        vertical-align: middle;\n",
       "    }\n",
       "\n",
       "    .dataframe tbody tr th {\n",
       "        vertical-align: top;\n",
       "    }\n",
       "\n",
       "    .dataframe thead th {\n",
       "        text-align: right;\n",
       "    }\n",
       "</style>\n",
       "<table border=\"1\" class=\"dataframe\">\n",
       "  <thead>\n",
       "    <tr style=\"text-align: right;\">\n",
       "      <th></th>\n",
       "      <th>id</th>\n",
       "      <th>user_id</th>\n",
       "      <th>call_date</th>\n",
       "      <th>duration</th>\n",
       "    </tr>\n",
       "  </thead>\n",
       "  <tbody>\n",
       "    <tr>\n",
       "      <th>0</th>\n",
       "      <td>1000_93</td>\n",
       "      <td>1000</td>\n",
       "      <td>2018-12-27</td>\n",
       "      <td>8.52</td>\n",
       "    </tr>\n",
       "    <tr>\n",
       "      <th>1</th>\n",
       "      <td>1000_145</td>\n",
       "      <td>1000</td>\n",
       "      <td>2018-12-27</td>\n",
       "      <td>13.66</td>\n",
       "    </tr>\n",
       "    <tr>\n",
       "      <th>2</th>\n",
       "      <td>1000_247</td>\n",
       "      <td>1000</td>\n",
       "      <td>2018-12-27</td>\n",
       "      <td>14.48</td>\n",
       "    </tr>\n",
       "    <tr>\n",
       "      <th>3</th>\n",
       "      <td>1000_309</td>\n",
       "      <td>1000</td>\n",
       "      <td>2018-12-28</td>\n",
       "      <td>5.76</td>\n",
       "    </tr>\n",
       "    <tr>\n",
       "      <th>4</th>\n",
       "      <td>1000_380</td>\n",
       "      <td>1000</td>\n",
       "      <td>2018-12-30</td>\n",
       "      <td>4.22</td>\n",
       "    </tr>\n",
       "  </tbody>\n",
       "</table>\n",
       "</div>"
      ],
      "text/plain": [
       "         id  user_id   call_date  duration\n",
       "0   1000_93     1000  2018-12-27      8.52\n",
       "1  1000_145     1000  2018-12-27     13.66\n",
       "2  1000_247     1000  2018-12-27     14.48\n",
       "3  1000_309     1000  2018-12-28      5.76\n",
       "4  1000_380     1000  2018-12-30      4.22"
      ]
     },
     "execution_count": 361,
     "metadata": {},
     "output_type": "execute_result"
    }
   ],
   "source": [
    "# imprime una muestra de datos\n",
    "calls_data.head()"
   ]
  },
  {
   "cell_type": "markdown",
   "metadata": {},
   "source": [
    "### Datos sobre mensajes SMS\n",
    "\n",
    "Veremos los datos iniciales y la información general de este DataFrame, al igual que en el apartado anterior."
   ]
  },
  {
   "cell_type": "markdown",
   "metadata": {},
   "source": [
    "#### Explorar datos iniciales\n",
    "\n",
    "El Dataset contiene los siguientes campos:\n",
    "\n",
    " - `id` - identificador único del mensaje\n",
    " - `user_id` - identificador del usuario que manda el SMS\n",
    " - `message_date` - fecha del mensaje"
   ]
  },
  {
   "cell_type": "code",
   "execution_count": 362,
   "metadata": {},
   "outputs": [
    {
     "name": "stdout",
     "output_type": "stream",
     "text": [
      "<class 'pandas.core.frame.DataFrame'>\n",
      "\n",
      "RangeIndex: 76051 entries, 0 to 76050\n",
      "\n",
      "Data columns (total 3 columns):\n",
      "\n",
      " #   Column        Non-Null Count  Dtype \n",
      "\n",
      "---  ------        --------------  ----- \n",
      "\n",
      " 0   id            76051 non-null  object\n",
      "\n",
      " 1   user_id       76051 non-null  int64 \n",
      "\n",
      " 2   message_date  76051 non-null  object\n",
      "\n",
      "dtypes: int64(1), object(2)\n",
      "\n",
      "memory usage: 1.7+ MB\n"
     ]
    }
   ],
   "source": [
    "# imprime la información general sobre el DataFrame sms_data\n",
    "sms_data.info()"
   ]
  },
  {
   "cell_type": "code",
   "execution_count": 363,
   "metadata": {},
   "outputs": [
    {
     "data": {
      "text/html": [
       "<div>\n",
       "<style scoped>\n",
       "    .dataframe tbody tr th:only-of-type {\n",
       "        vertical-align: middle;\n",
       "    }\n",
       "\n",
       "    .dataframe tbody tr th {\n",
       "        vertical-align: top;\n",
       "    }\n",
       "\n",
       "    .dataframe thead th {\n",
       "        text-align: right;\n",
       "    }\n",
       "</style>\n",
       "<table border=\"1\" class=\"dataframe\">\n",
       "  <thead>\n",
       "    <tr style=\"text-align: right;\">\n",
       "      <th></th>\n",
       "      <th>id</th>\n",
       "      <th>user_id</th>\n",
       "      <th>message_date</th>\n",
       "    </tr>\n",
       "  </thead>\n",
       "  <tbody>\n",
       "    <tr>\n",
       "      <th>0</th>\n",
       "      <td>1000_125</td>\n",
       "      <td>1000</td>\n",
       "      <td>2018-12-27</td>\n",
       "    </tr>\n",
       "    <tr>\n",
       "      <th>1</th>\n",
       "      <td>1000_160</td>\n",
       "      <td>1000</td>\n",
       "      <td>2018-12-31</td>\n",
       "    </tr>\n",
       "    <tr>\n",
       "      <th>2</th>\n",
       "      <td>1000_223</td>\n",
       "      <td>1000</td>\n",
       "      <td>2018-12-31</td>\n",
       "    </tr>\n",
       "    <tr>\n",
       "      <th>3</th>\n",
       "      <td>1000_251</td>\n",
       "      <td>1000</td>\n",
       "      <td>2018-12-27</td>\n",
       "    </tr>\n",
       "    <tr>\n",
       "      <th>4</th>\n",
       "      <td>1000_255</td>\n",
       "      <td>1000</td>\n",
       "      <td>2018-12-26</td>\n",
       "    </tr>\n",
       "  </tbody>\n",
       "</table>\n",
       "</div>"
      ],
      "text/plain": [
       "         id  user_id message_date\n",
       "0  1000_125     1000   2018-12-27\n",
       "1  1000_160     1000   2018-12-31\n",
       "2  1000_223     1000   2018-12-31\n",
       "3  1000_251     1000   2018-12-27\n",
       "4  1000_255     1000   2018-12-26"
      ]
     },
     "execution_count": 363,
     "metadata": {},
     "output_type": "execute_result"
    }
   ],
   "source": [
    "# imprime una muestra de datos\n",
    "sms_data.head()"
   ]
  },
  {
   "cell_type": "markdown",
   "metadata": {},
   "source": [
    "### Datos sobre las sesiones web\n",
    "\n",
    "Realizamos el mismo proceso que en los apartados anteriores."
   ]
  },
  {
   "cell_type": "markdown",
   "metadata": {},
   "source": [
    "#### Explorar datos iniciales\n",
    "\n",
    "El Dataset contiene los siguientes campos:\n",
    "\n",
    " - `id` - identificador único de la sesion web\n",
    " - `user_id` - identificador del usuario\n",
    " - `session_date` - fecha de la sesion web\n",
    " - `mb_used` - cantidad de datos usados en megabytes"
   ]
  },
  {
   "cell_type": "code",
   "execution_count": 364,
   "metadata": {},
   "outputs": [
    {
     "name": "stdout",
     "output_type": "stream",
     "text": [
      "<class 'pandas.core.frame.DataFrame'>\n",
      "\n",
      "RangeIndex: 104825 entries, 0 to 104824\n",
      "\n",
      "Data columns (total 4 columns):\n",
      "\n",
      " #   Column        Non-Null Count   Dtype  \n",
      "\n",
      "---  ------        --------------   -----  \n",
      "\n",
      " 0   id            104825 non-null  object \n",
      "\n",
      " 1   user_id       104825 non-null  int64  \n",
      "\n",
      " 2   session_date  104825 non-null  object \n",
      "\n",
      " 3   mb_used       104825 non-null  float64\n",
      "\n",
      "dtypes: float64(1), int64(1), object(2)\n",
      "\n",
      "memory usage: 3.2+ MB\n"
     ]
    }
   ],
   "source": [
    "# imprime la información general sobre el DataFrame internet_data\n",
    "internet_data.info()"
   ]
  },
  {
   "cell_type": "code",
   "execution_count": 365,
   "metadata": {},
   "outputs": [
    {
     "data": {
      "text/html": [
       "<div>\n",
       "<style scoped>\n",
       "    .dataframe tbody tr th:only-of-type {\n",
       "        vertical-align: middle;\n",
       "    }\n",
       "\n",
       "    .dataframe tbody tr th {\n",
       "        vertical-align: top;\n",
       "    }\n",
       "\n",
       "    .dataframe thead th {\n",
       "        text-align: right;\n",
       "    }\n",
       "</style>\n",
       "<table border=\"1\" class=\"dataframe\">\n",
       "  <thead>\n",
       "    <tr style=\"text-align: right;\">\n",
       "      <th></th>\n",
       "      <th>id</th>\n",
       "      <th>user_id</th>\n",
       "      <th>session_date</th>\n",
       "      <th>mb_used</th>\n",
       "    </tr>\n",
       "  </thead>\n",
       "  <tbody>\n",
       "    <tr>\n",
       "      <th>0</th>\n",
       "      <td>1000_13</td>\n",
       "      <td>1000</td>\n",
       "      <td>2018-12-29</td>\n",
       "      <td>89.86</td>\n",
       "    </tr>\n",
       "    <tr>\n",
       "      <th>1</th>\n",
       "      <td>1000_204</td>\n",
       "      <td>1000</td>\n",
       "      <td>2018-12-31</td>\n",
       "      <td>0.00</td>\n",
       "    </tr>\n",
       "    <tr>\n",
       "      <th>2</th>\n",
       "      <td>1000_379</td>\n",
       "      <td>1000</td>\n",
       "      <td>2018-12-28</td>\n",
       "      <td>660.40</td>\n",
       "    </tr>\n",
       "    <tr>\n",
       "      <th>3</th>\n",
       "      <td>1000_413</td>\n",
       "      <td>1000</td>\n",
       "      <td>2018-12-26</td>\n",
       "      <td>270.99</td>\n",
       "    </tr>\n",
       "    <tr>\n",
       "      <th>4</th>\n",
       "      <td>1000_442</td>\n",
       "      <td>1000</td>\n",
       "      <td>2018-12-27</td>\n",
       "      <td>880.22</td>\n",
       "    </tr>\n",
       "  </tbody>\n",
       "</table>\n",
       "</div>"
      ],
      "text/plain": [
       "         id  user_id session_date  mb_used\n",
       "0   1000_13     1000   2018-12-29    89.86\n",
       "1  1000_204     1000   2018-12-31     0.00\n",
       "2  1000_379     1000   2018-12-28   660.40\n",
       "3  1000_413     1000   2018-12-26   270.99\n",
       "4  1000_442     1000   2018-12-27   880.22"
      ]
     },
     "execution_count": 365,
     "metadata": {},
     "output_type": "execute_result"
    }
   ],
   "source": [
    "# imprime una muestra de datos\n",
    "internet_data.head()"
   ]
  },
  {
   "cell_type": "markdown",
   "metadata": {},
   "source": [
    "### Datos sobre los usuarios\n",
    "\n",
    "Mismo procedimeinto que en los apartados anteriores."
   ]
  },
  {
   "cell_type": "markdown",
   "metadata": {},
   "source": [
    "#### Explorar datos iniciales\n",
    "\n",
    "El Dataset contiene los siguientes campos:\n",
    "\n",
    " - `user_id` - identificador único del usuario\n",
    " - `first_name` - nombre del usuario\n",
    " - `last_name` - apellido del usuario\n",
    " - `age` - edad del usuario\n",
    " - `city` - ciudad de residencia del usuario\n",
    " - `reg_date` - fecha de suscripción\n",
    " - `plan` - tarifa contratada\n",
    " - `churn_date` - fecha en al que el usuario dejó de usar el servicio (el valor es ausente si la tarifa aun se estaba usando cuando se recuperaron los datos)"
   ]
  },
  {
   "cell_type": "code",
   "execution_count": 366,
   "metadata": {},
   "outputs": [
    {
     "name": "stdout",
     "output_type": "stream",
     "text": [
      "<class 'pandas.core.frame.DataFrame'>\n",
      "\n",
      "RangeIndex: 500 entries, 0 to 499\n",
      "\n",
      "Data columns (total 8 columns):\n",
      "\n",
      " #   Column      Non-Null Count  Dtype \n",
      "\n",
      "---  ------      --------------  ----- \n",
      "\n",
      " 0   user_id     500 non-null    int64 \n",
      "\n",
      " 1   first_name  500 non-null    object\n",
      "\n",
      " 2   last_name   500 non-null    object\n",
      "\n",
      " 3   age         500 non-null    int64 \n",
      "\n",
      " 4   city        500 non-null    object\n",
      "\n",
      " 5   reg_date    500 non-null    object\n",
      "\n",
      " 6   plan        500 non-null    object\n",
      "\n",
      " 7   churn_date  34 non-null     object\n",
      "\n",
      "dtypes: int64(2), object(6)\n",
      "\n",
      "memory usage: 31.4+ KB\n"
     ]
    }
   ],
   "source": [
    "# imprime la información general sobre el DataFrame users_data\n",
    "users_data.info()"
   ]
  },
  {
   "cell_type": "code",
   "execution_count": 367,
   "metadata": {},
   "outputs": [
    {
     "data": {
      "text/html": [
       "<div>\n",
       "<style scoped>\n",
       "    .dataframe tbody tr th:only-of-type {\n",
       "        vertical-align: middle;\n",
       "    }\n",
       "\n",
       "    .dataframe tbody tr th {\n",
       "        vertical-align: top;\n",
       "    }\n",
       "\n",
       "    .dataframe thead th {\n",
       "        text-align: right;\n",
       "    }\n",
       "</style>\n",
       "<table border=\"1\" class=\"dataframe\">\n",
       "  <thead>\n",
       "    <tr style=\"text-align: right;\">\n",
       "      <th></th>\n",
       "      <th>user_id</th>\n",
       "      <th>first_name</th>\n",
       "      <th>last_name</th>\n",
       "      <th>age</th>\n",
       "      <th>city</th>\n",
       "      <th>reg_date</th>\n",
       "      <th>plan</th>\n",
       "      <th>churn_date</th>\n",
       "    </tr>\n",
       "  </thead>\n",
       "  <tbody>\n",
       "    <tr>\n",
       "      <th>0</th>\n",
       "      <td>1000</td>\n",
       "      <td>Anamaria</td>\n",
       "      <td>Bauer</td>\n",
       "      <td>45</td>\n",
       "      <td>Atlanta-Sandy Springs-Roswell, GA MSA</td>\n",
       "      <td>2018-12-24</td>\n",
       "      <td>ultimate</td>\n",
       "      <td>NaN</td>\n",
       "    </tr>\n",
       "    <tr>\n",
       "      <th>1</th>\n",
       "      <td>1001</td>\n",
       "      <td>Mickey</td>\n",
       "      <td>Wilkerson</td>\n",
       "      <td>28</td>\n",
       "      <td>Seattle-Tacoma-Bellevue, WA MSA</td>\n",
       "      <td>2018-08-13</td>\n",
       "      <td>surf</td>\n",
       "      <td>NaN</td>\n",
       "    </tr>\n",
       "    <tr>\n",
       "      <th>2</th>\n",
       "      <td>1002</td>\n",
       "      <td>Carlee</td>\n",
       "      <td>Hoffman</td>\n",
       "      <td>36</td>\n",
       "      <td>Las Vegas-Henderson-Paradise, NV MSA</td>\n",
       "      <td>2018-10-21</td>\n",
       "      <td>surf</td>\n",
       "      <td>NaN</td>\n",
       "    </tr>\n",
       "    <tr>\n",
       "      <th>3</th>\n",
       "      <td>1003</td>\n",
       "      <td>Reynaldo</td>\n",
       "      <td>Jenkins</td>\n",
       "      <td>52</td>\n",
       "      <td>Tulsa, OK MSA</td>\n",
       "      <td>2018-01-28</td>\n",
       "      <td>surf</td>\n",
       "      <td>NaN</td>\n",
       "    </tr>\n",
       "    <tr>\n",
       "      <th>4</th>\n",
       "      <td>1004</td>\n",
       "      <td>Leonila</td>\n",
       "      <td>Thompson</td>\n",
       "      <td>40</td>\n",
       "      <td>Seattle-Tacoma-Bellevue, WA MSA</td>\n",
       "      <td>2018-05-23</td>\n",
       "      <td>surf</td>\n",
       "      <td>NaN</td>\n",
       "    </tr>\n",
       "  </tbody>\n",
       "</table>\n",
       "</div>"
      ],
      "text/plain": [
       "   user_id first_name  last_name  age                                   city  \\\n",
       "0     1000   Anamaria      Bauer   45  Atlanta-Sandy Springs-Roswell, GA MSA   \n",
       "1     1001     Mickey  Wilkerson   28        Seattle-Tacoma-Bellevue, WA MSA   \n",
       "2     1002     Carlee    Hoffman   36   Las Vegas-Henderson-Paradise, NV MSA   \n",
       "3     1003   Reynaldo    Jenkins   52                          Tulsa, OK MSA   \n",
       "4     1004    Leonila   Thompson   40        Seattle-Tacoma-Bellevue, WA MSA   \n",
       "\n",
       "     reg_date      plan churn_date  \n",
       "0  2018-12-24  ultimate        NaN  \n",
       "1  2018-08-13      surf        NaN  \n",
       "2  2018-10-21      surf        NaN  \n",
       "3  2018-01-28      surf        NaN  \n",
       "4  2018-05-23      surf        NaN  "
      ]
     },
     "execution_count": 367,
     "metadata": {},
     "output_type": "execute_result"
    }
   ],
   "source": [
    "# imprime una muestra de datos\n",
    "users_data.head()"
   ]
  },
  {
   "cell_type": "markdown",
   "metadata": {},
   "source": [
    "### Datos sobre las tarifas\n",
    "\n",
    "En este DataFrame encontramos una tabla con la descripción de las tarifas."
   ]
  },
  {
   "cell_type": "markdown",
   "metadata": {},
   "source": [
    "#### Explorar datos iniciales\n",
    "\n",
    "El Dataset contiene los siguientes campos:\n",
    "\n",
    " - `plan_name` - nombre de la tarifa\n",
    " - `usd_monthly_fee` - pago mensual en dólares estadounidenses\n",
    " - `minutes included` - minutos incluidos en la tarifa\n",
    " - `messages_included` - SMS incluidos en la tarifa\n",
    " - `mb_per_month_included` - datos incluidos al mes (en megabytes)\n",
    " - `usd_per_minute` - precio por minuto si se exceden los límites del paquete\n",
    " - `usd_per_message` - precio por mensaje si se exceden los límites del paquete\n",
    " - `usd_per_gb` - precio por gigabyte de datos extra tras exceder los límites del paquete"
   ]
  },
  {
   "cell_type": "code",
   "execution_count": 368,
   "metadata": {},
   "outputs": [
    {
     "name": "stdout",
     "output_type": "stream",
     "text": [
      "<class 'pandas.core.frame.DataFrame'>\n",
      "\n",
      "RangeIndex: 2 entries, 0 to 1\n",
      "\n",
      "Data columns (total 8 columns):\n",
      "\n",
      " #   Column                 Non-Null Count  Dtype  \n",
      "\n",
      "---  ------                 --------------  -----  \n",
      "\n",
      " 0   messages_included      2 non-null      int64  \n",
      "\n",
      " 1   mb_per_month_included  2 non-null      int64  \n",
      "\n",
      " 2   minutes_included       2 non-null      int64  \n",
      "\n",
      " 3   usd_monthly_pay        2 non-null      int64  \n",
      "\n",
      " 4   usd_per_gb             2 non-null      int64  \n",
      "\n",
      " 5   usd_per_message        2 non-null      float64\n",
      "\n",
      " 6   usd_per_minute         2 non-null      float64\n",
      "\n",
      " 7   plan_name              2 non-null      object \n",
      "\n",
      "dtypes: float64(2), int64(5), object(1)\n",
      "\n",
      "memory usage: 256.0+ bytes\n"
     ]
    }
   ],
   "source": [
    "# imprime la información general sobre el DataFrame plans_data\n",
    "plans_data.info()"
   ]
  },
  {
   "cell_type": "code",
   "execution_count": 369,
   "metadata": {},
   "outputs": [
    {
     "data": {
      "text/html": [
       "<div>\n",
       "<style scoped>\n",
       "    .dataframe tbody tr th:only-of-type {\n",
       "        vertical-align: middle;\n",
       "    }\n",
       "\n",
       "    .dataframe tbody tr th {\n",
       "        vertical-align: top;\n",
       "    }\n",
       "\n",
       "    .dataframe thead th {\n",
       "        text-align: right;\n",
       "    }\n",
       "</style>\n",
       "<table border=\"1\" class=\"dataframe\">\n",
       "  <thead>\n",
       "    <tr style=\"text-align: right;\">\n",
       "      <th></th>\n",
       "      <th>messages_included</th>\n",
       "      <th>mb_per_month_included</th>\n",
       "      <th>minutes_included</th>\n",
       "      <th>usd_monthly_pay</th>\n",
       "      <th>usd_per_gb</th>\n",
       "      <th>usd_per_message</th>\n",
       "      <th>usd_per_minute</th>\n",
       "      <th>plan_name</th>\n",
       "    </tr>\n",
       "  </thead>\n",
       "  <tbody>\n",
       "    <tr>\n",
       "      <th>0</th>\n",
       "      <td>50</td>\n",
       "      <td>15360</td>\n",
       "      <td>500</td>\n",
       "      <td>20</td>\n",
       "      <td>10</td>\n",
       "      <td>0.03</td>\n",
       "      <td>0.03</td>\n",
       "      <td>surf</td>\n",
       "    </tr>\n",
       "    <tr>\n",
       "      <th>1</th>\n",
       "      <td>1000</td>\n",
       "      <td>30720</td>\n",
       "      <td>3000</td>\n",
       "      <td>70</td>\n",
       "      <td>7</td>\n",
       "      <td>0.01</td>\n",
       "      <td>0.01</td>\n",
       "      <td>ultimate</td>\n",
       "    </tr>\n",
       "  </tbody>\n",
       "</table>\n",
       "</div>"
      ],
      "text/plain": [
       "   messages_included  mb_per_month_included  minutes_included  \\\n",
       "0                 50                  15360               500   \n",
       "1               1000                  30720              3000   \n",
       "\n",
       "   usd_monthly_pay  usd_per_gb  usd_per_message  usd_per_minute plan_name  \n",
       "0               20          10             0.03            0.03      surf  \n",
       "1               70           7             0.01            0.01  ultimate  "
      ]
     },
     "execution_count": 369,
     "metadata": {},
     "output_type": "execute_result"
    }
   ],
   "source": [
    "# imprime una muestra de datos\n",
    "plans_data"
   ]
  },
  {
   "cell_type": "markdown",
   "metadata": {},
   "source": [
    "### Conclusiones y siguientes pasos"
   ]
  },
  {
   "cell_type": "markdown",
   "metadata": {},
   "source": [
    "**Conclusiones**\n",
    "\n",
    "En los distintos conjuntos de datos podemos observar que los campos de fecha no tienen el tipo de datos adecuado, también encontramos algunos campos que son 0, como el que se puede ver en la tabla de las sesiones web, el cual se puede identificar como una sesión web que no se llegó a iniciar.\n",
    "Vemos además que no hay valores ausentes en los DataFrame, excluyendo aquellos del conjunto de datos de usuarios en los que indica que el servicio se sigue utilizando."
   ]
  },
  {
   "cell_type": "markdown",
   "metadata": {},
   "source": [
    "**Siguientes pasos**\n",
    "\n",
    "En el siguiente apartado del proyecto, convertiremos los datos en los tipos necesarios y trataremos los errores que podamos encontrar en los conjuntos de datos.\n",
    "\n",
    "Después agruparemos para cada usuario:\n",
    " - El número de llamadas realizadas y minutos utilizados al mes.\n",
    " - La cantidad de SMS enviados por mes.\n",
    " - El volumen de datos por mes.\n",
    " - Los ingresos mensuales por cada usuario."
   ]
  },
  {
   "cell_type": "markdown",
   "metadata": {},
   "source": [
    "# Preparar los datos\n",
    "\n",
    "Como hemos mencionado antes, hay algunos tipos de datos que necesitan ser corregidos, concretamente los campos con valores de fecha son de tipo `object` y necesitan ser convertidos en tipo `timestamp`."
   ]
  },
  {
   "cell_type": "code",
   "execution_count": 370,
   "metadata": {},
   "outputs": [],
   "source": [
    "# Convertir campos de fecha en tipos 'timestamp'\n",
    "calls_data['call_date'] = pd.to_datetime(calls_data['call_date'], format='%Y-%m-%d')\n",
    "sms_data['message_date'] = pd.to_datetime(sms_data['message_date'], format='%Y-%m-%d')\n",
    "internet_data['session_date'] = pd.to_datetime(internet_data['session_date'], format='%Y-%m-%d')\n",
    "users_data['reg_date'] = pd.to_datetime(users_data['reg_date'], format='%Y-%m-%d')"
   ]
  },
  {
   "cell_type": "markdown",
   "metadata": {},
   "source": [
    "## Encontrar y tratar errores\n",
    "\n",
    "Hemos observado antes que en el DataFrame de la tabla sobre sesiones web encontramos que habia entradas con un consumo de datos de 0.00 MB, por lo que debemos revisar el DataFrame en busca de que hubiera más entradas como ésta.\n",
    "Es posible que en el conjunto de datos de la tabla de llamadas existan entradas con una duración de 0.00 minutos. Buscaremos también en este conjunto de datos."
   ]
  },
  {
   "cell_type": "markdown",
   "metadata": {},
   "source": [
    "### Errores en `internet_data`"
   ]
  },
  {
   "cell_type": "code",
   "execution_count": 371,
   "metadata": {},
   "outputs": [
    {
     "data": {
      "text/plain": [
       "13747"
      ]
     },
     "execution_count": 371,
     "metadata": {},
     "output_type": "execute_result"
    }
   ],
   "source": [
    "# Número de entradas en las que 'mb_used' es 0\n",
    "len(internet_data.query('mb_used == 0'))"
   ]
  },
  {
   "cell_type": "code",
   "execution_count": 372,
   "metadata": {},
   "outputs": [
    {
     "name": "stdout",
     "output_type": "stream",
     "text": [
      "El porcentaje de entradas con \"mb_used\" igual a 0 es: 13.11 %\n"
     ]
    }
   ],
   "source": [
    "# Obtenemos el porcentaje de entradas con 'mb_used' igual a 0\n",
    "print('El porcentaje de entradas con \"mb_used\" igual a 0 es:',\n",
    "      round(len(internet_data.query('mb_used == 0'))/len(internet_data)*100, 2), '%')"
   ]
  },
  {
   "cell_type": "markdown",
   "metadata": {},
   "source": [
    "**Conclusiones intermedias**\n",
    "\n",
    "Tenemos que un 13.11 % de las entradas en este DataFrame son sesiones web de consumo 0. Tal vez puedan ser intentos de iniciar una sesión web sin tener cobertura. Estas entradas no aportan nada a nuestro estudio, ya que no afectan al recuento del total de megabytes usados, por lo que no cambian el resultado de los ingresos. Así que podemos eliminarlos del DataFrame, aunque guardaremos el DataFrame original en una variable nueva llamada `internet_data_raw` para comprobar más adelante si este cambio tuviera algún impacto en nuestro estudio."
   ]
  },
  {
   "cell_type": "code",
   "execution_count": 373,
   "metadata": {},
   "outputs": [],
   "source": [
    "# Filtramos por los valores de 'mb_used' mayores que 0\n",
    "internet_data_raw = internet_data # Guardamos el conjunto original aparte\n",
    "internet_data = internet_data.query('mb_used > 0')"
   ]
  },
  {
   "cell_type": "markdown",
   "metadata": {},
   "source": [
    "### Errores en `calls_data`\n",
    "\n",
    "Debemos comprobar si hay entradas en las que `duration` es igual a 0."
   ]
  },
  {
   "cell_type": "code",
   "execution_count": 374,
   "metadata": {},
   "outputs": [
    {
     "data": {
      "text/plain": [
       "26834"
      ]
     },
     "execution_count": 374,
     "metadata": {},
     "output_type": "execute_result"
    }
   ],
   "source": [
    "# Número de entradas en las que 'duration' es 0\n",
    "len(calls_data.query('duration == 0'))"
   ]
  },
  {
   "cell_type": "code",
   "execution_count": 375,
   "metadata": {},
   "outputs": [
    {
     "name": "stdout",
     "output_type": "stream",
     "text": [
      "El porcentaje de entradas con \"duration\" igual a 0 es: 19.48 %\n"
     ]
    }
   ],
   "source": [
    "# Obtenemos el porcentaje de entradas con 'duration' igual a 0\n",
    "print('El porcentaje de entradas con \"duration\" igual a 0 es:',\n",
    "      round(len(calls_data.query('duration == 0'))/len(calls_data)*100, 2), '%')"
   ]
  },
  {
   "cell_type": "markdown",
   "metadata": {},
   "source": [
    "**Conclusiones intermedias**\n",
    "\n",
    "Para este caso también existian casos en los que la duración de la llamada es 0, y también vemos que el porcentaje de entradas en este caso es mayor. Tal vez puedan ser llamadas perdidas. Al igual que antes, estas entradas no afectan al estudio, ya que no suman minutos al recuento total de minutos consumidos de forma que pueda cambiar el total de ingresos. De este modo, procedemos igual que con el caso anterior: guardaremos el conjunto de datos inicial en una nueva variable llamada `calls_data_raw` y filtraremos el DataFrame con el que vamos a trabajar."
   ]
  },
  {
   "cell_type": "code",
   "execution_count": 376,
   "metadata": {},
   "outputs": [],
   "source": [
    "# Filtramos por los valores de 'duration' mayores que 0\n",
    "calls_data_raw = internet_data # Guardamos el conjunto original aparte\n",
    "calls_data = calls_data.query('duration > 0')"
   ]
  },
  {
   "cell_type": "markdown",
   "metadata": {},
   "source": [
    "## Ordenar los datos\n",
    "\n",
    "Para nuestro estudio vamos a ordenar los datos en una tabla en la que para cada usuario añadiremos columnas con:\n",
    " - El número de llamadas realizadas y minutos utilizados al mes.\n",
    " - La cantidad de SMS enviados por mes.\n",
    " - El volumen de datos por mes.\n",
    " - Los ingresos mensuales por cada usuario."
   ]
  },
  {
   "cell_type": "markdown",
   "metadata": {},
   "source": [
    "### Agrupar los datos en una tabla\n",
    "\n",
    "Crearemos la variable `income_data` en la que incluiremos toda esta información. Primero en la nueva variable añadiremos el ID de usuario y el plan que tiene contratado."
   ]
  },
  {
   "cell_type": "code",
   "execution_count": 377,
   "metadata": {},
   "outputs": [],
   "source": [
    "# Creamos la variable 'income_data' y le agregamos informacion\n",
    "\n",
    "income_data = users_data[['user_id', 'plan']]"
   ]
  },
  {
   "cell_type": "markdown",
   "metadata": {},
   "source": [
    "A continuación, en los DataFrames sobre los datos de llamadas, sms y sesiones web crearemos la columna `month` para identificar el mes de cada entrada de datos."
   ]
  },
  {
   "cell_type": "code",
   "execution_count": 378,
   "metadata": {},
   "outputs": [
    {
     "name": "stderr",
     "output_type": "stream",
     "text": [
      "/tmp/ipykernel_27/1616457919.py:3: SettingWithCopyWarning: \n",
      "\n",
      "A value is trying to be set on a copy of a slice from a DataFrame.\n",
      "\n",
      "Try using .loc[row_indexer,col_indexer] = value instead\n",
      "\n",
      "\n",
      "\n",
      "See the caveats in the documentation: https://pandas.pydata.org/pandas-docs/stable/user_guide/indexing.html#returning-a-view-versus-a-copy\n",
      "\n",
      "  internet_data['month'] = pd.DatetimeIndex(internet_data['session_date']).month\n"
     ]
    }
   ],
   "source": [
    "calls_data['month'] = pd.DatetimeIndex(calls_data['call_date']).month\n",
    "sms_data['month'] = pd.DatetimeIndex(sms_data['message_date']).month\n",
    "internet_data['month'] = pd.DatetimeIndex(internet_data['session_date']).month"
   ]
  },
  {
   "cell_type": "markdown",
   "metadata": {},
   "source": [
    "Como hemos mencionado anteriormente, la compañía Megaline redondea al alza los minutos **para cada llamada**. Por lo tanto definimos una función para hacer este redondeo. Por ejemplo, si una llamada dura 1 segundo, se redondea a 1 minuto."
   ]
  },
  {
   "cell_type": "code",
   "execution_count": 379,
   "metadata": {},
   "outputs": [],
   "source": [
    "# Función para redondear a minutos\n",
    "\n",
    "def ceil_duration(row):\n",
    "    call_duration = row['duration']\n",
    "    \n",
    "    return math.ceil(call_duration)"
   ]
  },
  {
   "cell_type": "code",
   "execution_count": 380,
   "metadata": {},
   "outputs": [],
   "source": [
    "# Aplica la función para la columna 'duration'\n",
    "\n",
    "calls_data['duration'] = calls_data.apply(ceil_duration, axis=1)"
   ]
  },
  {
   "cell_type": "markdown",
   "metadata": {},
   "source": [
    "Lo siguiente es agrupar en una tabla que llamaremos `calls_per_month` para cada usuario y mes la suma del número de llamadas y el total de minutos (ya redondeados) realizados en cada mes del que hay registro."
   ]
  },
  {
   "cell_type": "code",
   "execution_count": 381,
   "metadata": {},
   "outputs": [],
   "source": [
    "# Agrupa por usuario y mes el número de llamadas y el total de minutos\n",
    "\n",
    "calls_per_month = calls_data.pivot_table(index=['user_id', 'month'], values='duration', aggfunc=['count', 'sum'])\n",
    "calls_per_month.columns = ['total_calls', 'total_minutes'] # Cambia el nombre de las columnas"
   ]
  },
  {
   "cell_type": "markdown",
   "metadata": {},
   "source": [
    "Realizamos la misma operación para el total de mensajes y megabytes consumidos por usuario y mes."
   ]
  },
  {
   "cell_type": "code",
   "execution_count": 382,
   "metadata": {},
   "outputs": [],
   "source": [
    "# Agrupa por usuario y mes el total de mensajes SMS enviados\n",
    "sms_per_month = sms_data.pivot_table(index=['user_id', 'month'], values='id', aggfunc='count')\n",
    "sms_per_month.columns = ['total_messages'] # Cambia el nombre de las columna\n",
    "\n",
    "# Agrupa por usuario y mes el total de megabytes consumidos en las sesiones web\n",
    "mb_per_month = internet_data.pivot_table(index=['user_id', 'month'], values='mb_used', aggfunc='sum')\n",
    "mb_per_month.columns = ['total_gb'] # Cambia el nombre de la columna"
   ]
  },
  {
   "cell_type": "markdown",
   "metadata": {},
   "source": [
    "En la tabla tenemos el recuento total en megabytes, pero para el análisis necesitamos pasarlo a gigabytes. Para ello debemos dividir el total de megabytes entre 1024."
   ]
  },
  {
   "cell_type": "code",
   "execution_count": 383,
   "metadata": {},
   "outputs": [],
   "source": [
    "# Pasa los megabytes a gigabytes\n",
    "mb_per_month['total_gb'] = mb_per_month['total_gb']/1024"
   ]
  },
  {
   "cell_type": "markdown",
   "metadata": {},
   "source": [
    "Con los datos agrupados, unimos todas las tablas en una llamada `data_per_month`. Como las tablas agrupadas mediante el método `pivot_table` daban como resultado una tabla multinivel, es posible que de problemas al unirla con la tabla `income_data` que creamos al principio, por lo que tambien reseteamos los índices."
   ]
  },
  {
   "cell_type": "code",
   "execution_count": 384,
   "metadata": {},
   "outputs": [],
   "source": [
    "# Une las tablas en una y elimina los índices multinivel\n",
    "data_per_month = calls_per_month.join([sms_per_month, mb_per_month]).reset_index()"
   ]
  },
  {
   "cell_type": "markdown",
   "metadata": {},
   "source": [
    "Combinamos la tabla con los datos de llamadas, SMS y gigabytes consumidos con la tabla `income_data` que contiene además el plan que tiene contratado cada usuario."
   ]
  },
  {
   "cell_type": "code",
   "execution_count": 385,
   "metadata": {},
   "outputs": [],
   "source": [
    "# Combina la tabla con la tabla inicial que va a contener todos los datos\n",
    "income_data = data_per_month.merge(income_data, how='inner', on='user_id')"
   ]
  },
  {
   "cell_type": "markdown",
   "metadata": {},
   "source": [
    "También se mencionó anteriormente que la compañía Megaline redondeaba **al final del mes** el total de gigabytes consumidos. Por ejemplo, si un cliente consume 1025 MB al final del mes, se redondea a 2 GB.\n",
    "\n",
    "Definimos una función igual que la anterior para hacer este redondeo."
   ]
  },
  {
   "cell_type": "code",
   "execution_count": 386,
   "metadata": {},
   "outputs": [],
   "source": [
    "# Al unir las tablas, da como resultado que algunos clientes no han enviado mensajes o no han consumido datos\n",
    "income_data = income_data.fillna(0)\n",
    "\n",
    "# Función para redondear a gigabytes\n",
    "\n",
    "def ceil_gb(row):\n",
    "    gb_used = row['total_gb']\n",
    "    \n",
    "    return math.ceil(gb_used)"
   ]
  },
  {
   "cell_type": "code",
   "execution_count": 387,
   "metadata": {},
   "outputs": [],
   "source": [
    "# Aplica la función a la columna 'total_gb'\n",
    "income_data['total_gb'] = income_data.apply(ceil_gb, axis=1)"
   ]
  },
  {
   "cell_type": "code",
   "execution_count": 388,
   "metadata": {},
   "outputs": [
    {
     "data": {
      "text/html": [
       "<div>\n",
       "<style scoped>\n",
       "    .dataframe tbody tr th:only-of-type {\n",
       "        vertical-align: middle;\n",
       "    }\n",
       "\n",
       "    .dataframe tbody tr th {\n",
       "        vertical-align: top;\n",
       "    }\n",
       "\n",
       "    .dataframe thead th {\n",
       "        text-align: right;\n",
       "    }\n",
       "</style>\n",
       "<table border=\"1\" class=\"dataframe\">\n",
       "  <thead>\n",
       "    <tr style=\"text-align: right;\">\n",
       "      <th></th>\n",
       "      <th>user_id</th>\n",
       "      <th>month</th>\n",
       "      <th>total_calls</th>\n",
       "      <th>total_minutes</th>\n",
       "      <th>total_messages</th>\n",
       "      <th>total_gb</th>\n",
       "      <th>plan</th>\n",
       "    </tr>\n",
       "  </thead>\n",
       "  <tbody>\n",
       "    <tr>\n",
       "      <th>0</th>\n",
       "      <td>1000</td>\n",
       "      <td>12</td>\n",
       "      <td>16.0</td>\n",
       "      <td>124.0</td>\n",
       "      <td>11.0</td>\n",
       "      <td>2</td>\n",
       "      <td>ultimate</td>\n",
       "    </tr>\n",
       "    <tr>\n",
       "      <th>1</th>\n",
       "      <td>1001</td>\n",
       "      <td>8</td>\n",
       "      <td>22.0</td>\n",
       "      <td>182.0</td>\n",
       "      <td>30.0</td>\n",
       "      <td>7</td>\n",
       "      <td>surf</td>\n",
       "    </tr>\n",
       "    <tr>\n",
       "      <th>2</th>\n",
       "      <td>1001</td>\n",
       "      <td>9</td>\n",
       "      <td>38.0</td>\n",
       "      <td>315.0</td>\n",
       "      <td>44.0</td>\n",
       "      <td>14</td>\n",
       "      <td>surf</td>\n",
       "    </tr>\n",
       "    <tr>\n",
       "      <th>3</th>\n",
       "      <td>1001</td>\n",
       "      <td>10</td>\n",
       "      <td>47.0</td>\n",
       "      <td>393.0</td>\n",
       "      <td>53.0</td>\n",
       "      <td>22</td>\n",
       "      <td>surf</td>\n",
       "    </tr>\n",
       "    <tr>\n",
       "      <th>4</th>\n",
       "      <td>1001</td>\n",
       "      <td>11</td>\n",
       "      <td>49.0</td>\n",
       "      <td>426.0</td>\n",
       "      <td>36.0</td>\n",
       "      <td>19</td>\n",
       "      <td>surf</td>\n",
       "    </tr>\n",
       "  </tbody>\n",
       "</table>\n",
       "</div>"
      ],
      "text/plain": [
       "   user_id  month  total_calls  total_minutes  total_messages  total_gb  \\\n",
       "0     1000     12         16.0          124.0            11.0         2   \n",
       "1     1001      8         22.0          182.0            30.0         7   \n",
       "2     1001      9         38.0          315.0            44.0        14   \n",
       "3     1001     10         47.0          393.0            53.0        22   \n",
       "4     1001     11         49.0          426.0            36.0        19   \n",
       "\n",
       "       plan  \n",
       "0  ultimate  \n",
       "1      surf  \n",
       "2      surf  \n",
       "3      surf  \n",
       "4      surf  "
      ]
     },
     "execution_count": 388,
     "metadata": {},
     "output_type": "execute_result"
    }
   ],
   "source": [
    "# Muestra la tabla resultante\n",
    "income_data.head()"
   ]
  },
  {
   "cell_type": "markdown",
   "metadata": {},
   "source": [
    "### Ingresos mensuales por usuario\n",
    "\n",
    "Ahora que tenemos agrupado en una tabla todos los datos en referencia al número de llamadas, SMS enviados y gigabytes consumidos por mes para cada usuario y el plan que tienen contratado, definimos una función para calcular el ingreso mensual para cada usuario."
   ]
  },
  {
   "cell_type": "code",
   "execution_count": 389,
   "metadata": {},
   "outputs": [],
   "source": [
    "# Define la función para calcular los ingresos por mes de cada usuario\n",
    "\n",
    "def calculate_income(row):\n",
    "    total_minutes = row['total_minutes']\n",
    "    total_messages = row['total_messages']\n",
    "    total_gb = row['total_gb']\n",
    "    plan = row['plan']\n",
    "    extra_fee = 0\n",
    "    \n",
    "    if plan == 'surf':\n",
    "        if total_minutes > 500:\n",
    "            extra_fee += (total_minutes - 500)*0.03\n",
    "\n",
    "        if total_messages > 50:\n",
    "            extra_fee += (total_messages - 50)*0.03\n",
    "            \n",
    "        if total_gb > 15:\n",
    "            extra_fee += (total_gb - 15)*10\n",
    "            \n",
    "        return 20 + extra_fee\n",
    "    \n",
    "    elif plan == 'ultimate':\n",
    "        if total_minutes > 3000:\n",
    "            extra_fee += (total_minutes - 3000)*0.01\n",
    "\n",
    "        if total_messages > 1000:\n",
    "            extra_fee += (total_messages - 1000)*0.01\n",
    "            \n",
    "        if total_gb > 30:\n",
    "            extra_fee += (total_gb - 30)*7\n",
    "        return 70 + extra_fee\n",
    "    else:\n",
    "        if plan == 'surf':\n",
    "            return 20\n",
    "        else:\n",
    "            return 70"
   ]
  },
  {
   "cell_type": "code",
   "execution_count": 390,
   "metadata": {},
   "outputs": [
    {
     "name": "stdout",
     "output_type": "stream",
     "text": [
      "31.560000000000002\n"
     ]
    }
   ],
   "source": [
    "# Comprueba si funciona\n",
    "\n",
    "row_values = [550, 52, 16, 'surf'] \n",
    "row_columns = ['total_minutes', 'total_messages', 'total_gb', 'plan']\n",
    "row = pd.Series(data=row_values, index=row_columns)\n",
    "\n",
    "print(calculate_income(row))"
   ]
  },
  {
   "cell_type": "code",
   "execution_count": 391,
   "metadata": {},
   "outputs": [],
   "source": [
    "# Aplica la función\n",
    "income_data['income'] = income_data.apply(calculate_income, axis=1)"
   ]
  },
  {
   "cell_type": "code",
   "execution_count": 392,
   "metadata": {},
   "outputs": [
    {
     "data": {
      "text/html": [
       "<div>\n",
       "<style scoped>\n",
       "    .dataframe tbody tr th:only-of-type {\n",
       "        vertical-align: middle;\n",
       "    }\n",
       "\n",
       "    .dataframe tbody tr th {\n",
       "        vertical-align: top;\n",
       "    }\n",
       "\n",
       "    .dataframe thead th {\n",
       "        text-align: right;\n",
       "    }\n",
       "</style>\n",
       "<table border=\"1\" class=\"dataframe\">\n",
       "  <thead>\n",
       "    <tr style=\"text-align: right;\">\n",
       "      <th></th>\n",
       "      <th>user_id</th>\n",
       "      <th>month</th>\n",
       "      <th>total_calls</th>\n",
       "      <th>total_minutes</th>\n",
       "      <th>total_messages</th>\n",
       "      <th>total_gb</th>\n",
       "      <th>plan</th>\n",
       "      <th>income</th>\n",
       "    </tr>\n",
       "  </thead>\n",
       "  <tbody>\n",
       "    <tr>\n",
       "      <th>0</th>\n",
       "      <td>1000</td>\n",
       "      <td>12</td>\n",
       "      <td>16.0</td>\n",
       "      <td>124.0</td>\n",
       "      <td>11.0</td>\n",
       "      <td>2</td>\n",
       "      <td>ultimate</td>\n",
       "      <td>70.00</td>\n",
       "    </tr>\n",
       "    <tr>\n",
       "      <th>1</th>\n",
       "      <td>1001</td>\n",
       "      <td>8</td>\n",
       "      <td>22.0</td>\n",
       "      <td>182.0</td>\n",
       "      <td>30.0</td>\n",
       "      <td>7</td>\n",
       "      <td>surf</td>\n",
       "      <td>20.00</td>\n",
       "    </tr>\n",
       "    <tr>\n",
       "      <th>2</th>\n",
       "      <td>1001</td>\n",
       "      <td>9</td>\n",
       "      <td>38.0</td>\n",
       "      <td>315.0</td>\n",
       "      <td>44.0</td>\n",
       "      <td>14</td>\n",
       "      <td>surf</td>\n",
       "      <td>20.00</td>\n",
       "    </tr>\n",
       "    <tr>\n",
       "      <th>3</th>\n",
       "      <td>1001</td>\n",
       "      <td>10</td>\n",
       "      <td>47.0</td>\n",
       "      <td>393.0</td>\n",
       "      <td>53.0</td>\n",
       "      <td>22</td>\n",
       "      <td>surf</td>\n",
       "      <td>90.09</td>\n",
       "    </tr>\n",
       "    <tr>\n",
       "      <th>4</th>\n",
       "      <td>1001</td>\n",
       "      <td>11</td>\n",
       "      <td>49.0</td>\n",
       "      <td>426.0</td>\n",
       "      <td>36.0</td>\n",
       "      <td>19</td>\n",
       "      <td>surf</td>\n",
       "      <td>60.00</td>\n",
       "    </tr>\n",
       "  </tbody>\n",
       "</table>\n",
       "</div>"
      ],
      "text/plain": [
       "   user_id  month  total_calls  total_minutes  total_messages  total_gb  \\\n",
       "0     1000     12         16.0          124.0            11.0         2   \n",
       "1     1001      8         22.0          182.0            30.0         7   \n",
       "2     1001      9         38.0          315.0            44.0        14   \n",
       "3     1001     10         47.0          393.0            53.0        22   \n",
       "4     1001     11         49.0          426.0            36.0        19   \n",
       "\n",
       "       plan  income  \n",
       "0  ultimate   70.00  \n",
       "1      surf   20.00  \n",
       "2      surf   20.00  \n",
       "3      surf   90.09  \n",
       "4      surf   60.00  "
      ]
     },
     "execution_count": 392,
     "metadata": {},
     "output_type": "execute_result"
    }
   ],
   "source": [
    "# Comprueba el resultado\n",
    "income_data.head()"
   ]
  },
  {
   "cell_type": "markdown",
   "metadata": {},
   "source": [
    "**Conclusiones**\n",
    "\n",
    "- Se han agrupado los datos sumando el total de minutos de llamadas, SMS enviados y gigabytes consumidos por cada usuario en cada mes. \n",
    "- Se han redondeado hacia arriba los minutos de cada llamada y los gigabytes totales por mes en cada usuario.\n",
    "- Se ha ordenado todo en una única tabla con la que podremos realizar el análisis y se ha calculado el ingreso mensual para cada usuario mediante los datos de la tabla y el tipo de plan que tienen contratado."
   ]
  },
  {
   "cell_type": "markdown",
   "metadata": {},
   "source": [
    "# Analizar los datos"
   ]
  },
  {
   "cell_type": "markdown",
   "metadata": {},
   "source": [
    "Ya tenemos los datos ordenados, el siguiente paso es analizar el comportamiento de los clientes en dónde se verán los minutos, SMS y volumen de datos que requieren los usuarios de cada tarifa por mes."
   ]
  },
  {
   "cell_type": "markdown",
   "metadata": {},
   "source": [
    "Crearemos dos variables:\n",
    " - `data_surf_monthly` - para los datos agrupados por clientes del plan Surf.\n",
    " - `data_ultimate_monthly` - para los datos agrupados por clientes del plan Ultimate.\n",
    "\n",
    "En estas variables haremos referencia a listas multinivel por usuario y mes del total de recursos consumidos."
   ]
  },
  {
   "cell_type": "code",
   "execution_count": 393,
   "metadata": {},
   "outputs": [],
   "source": [
    "# Agrupa los datos en una lista multinivel por usuario y mes para los clientes Surf\n",
    "\n",
    "data_surf_monthly = income_data\n",
    "data_surf_monthly = data_surf_monthly.set_index('user_id')\n",
    "\n",
    "data_surf_monthly = (data_surf_monthly.query('plan == \"surf\"')\n",
    "                       .groupby(['user_id','month'])[['total_minutes','total_messages','total_gb']]\n",
    "                       .mean())"
   ]
  },
  {
   "cell_type": "code",
   "execution_count": 394,
   "metadata": {},
   "outputs": [],
   "source": [
    "# Agrupa los datos en una lista multinivel por usuario y mes para los clientes Ultimate\n",
    "\n",
    "data_ultimate_monthly = income_data\n",
    "data_ultimate_monthly = data_ultimate_monthly.set_index('user_id')\n",
    "\n",
    "data_ultimate_monthly = (data_ultimate_monthly.query('plan == \"ultimate\"')\n",
    "                       .groupby(['user_id','month'])[['total_minutes','total_messages','total_gb']]\n",
    "                       .mean())"
   ]
  },
  {
   "cell_type": "markdown",
   "metadata": {},
   "source": [
    "## Datos sobre los minutos por mes\n",
    "\n",
    "En primer lugar analizaremos los datos que tenemos sobre los minutos en llamadas utilizados tanto por los clientes de las tarifas Surf y Ultimate. \n",
    "\n",
    "Trazaremos histogramas sobre la distribución de los minutos utilizados por mes en los meses con mayor número de datos con el fin de visualizar el comportamiento de los clientes de ambos planes."
   ]
  },
  {
   "cell_type": "markdown",
   "metadata": {},
   "source": [
    "### Clientes de la tarifa Surf\n",
    "\n",
    "Imprimiremos histogramas de los minutos consumidos por los usuarios cada mes y escogeremos los meses con más entradas de datos para nuestro análisis, ya que serán los que arrojen resultados más precisos."
   ]
  },
  {
   "cell_type": "code",
   "execution_count": 395,
   "metadata": {},
   "outputs": [
    {
     "data": {
      "text/plain": [
       "array([[<AxesSubplot:title={'center':'1'}>,\n",
       "        <AxesSubplot:title={'center':'2'}>,\n",
       "        <AxesSubplot:title={'center':'3'}>],\n",
       "       [<AxesSubplot:title={'center':'4'}>,\n",
       "        <AxesSubplot:title={'center':'5'}>,\n",
       "        <AxesSubplot:title={'center':'6'}>],\n",
       "       [<AxesSubplot:title={'center':'7'}>,\n",
       "        <AxesSubplot:title={'center':'8'}>,\n",
       "        <AxesSubplot:title={'center':'9'}>],\n",
       "       [<AxesSubplot:title={'center':'10'}>,\n",
       "        <AxesSubplot:title={'center':'11'}>,\n",
       "        <AxesSubplot:title={'center':'12'}>]], dtype=object)"
      ]
     },
     "execution_count": 395,
     "metadata": {},
     "output_type": "execute_result"
    },
    {
     "data": {
      "image/png": "[encoded data removed]",
      "text/plain": [
       "<Figure size 864x432 with 12 Axes>"
      ]
     },
     "metadata": {
      "needs_background": "light"
     },
     "output_type": "display_data"
    }
   ],
   "source": [
    "# Histogramas de los datos de minutos en llamadas utilizados cada mes por los clientes Surf\n",
    "\n",
    "data_surf_monthly.hist(bins=100, figsize=(12,6),\n",
    "                         by='month', column='total_minutes')"
   ]
  },
  {
   "cell_type": "markdown",
   "metadata": {},
   "source": [
    "Se puede observar que los dos últimos meses del año son en los que la compañía tuvo más número de abonados y por lo tanto, en los que más datos hay. Trazaremos histogramas más detallados de estos dos meses."
   ]
  },
  {
   "cell_type": "code",
   "execution_count": 396,
   "metadata": {},
   "outputs": [
    {
     "data": {
      "text/plain": [
       "Text(0.5, 1.0, 'Minutos consumidos en noviembre en la tarifa Surf')"
      ]
     },
     "execution_count": 396,
     "metadata": {},
     "output_type": "execute_result"
    },
    {
     "data": {
      "image/png": "[encoded data removed]",
      "text/plain": [
       "<Figure size 864x432 with 1 Axes>"
      ]
     },
     "metadata": {
      "needs_background": "light"
     },
     "output_type": "display_data"
    }
   ],
   "source": [
    "# Minutos en llamadas utilizados por clientes Surf en noviembre\n",
    "\n",
    "data_surf_monthly.query('month == 11')['total_minutes'].hist(bins=100, figsize=(12,6))\n",
    "plt.title(label='Minutos consumidos en noviembre en la tarifa Surf')"
   ]
  },
  {
   "cell_type": "code",
   "execution_count": 397,
   "metadata": {},
   "outputs": [
    {
     "name": "stdout",
     "output_type": "stream",
     "text": [
      "La media de minutos utlizados en noviembre por los clientes de la tarifa Surf es de 432.495 minutos\n",
      "\n",
      "La varianza en esta distribución es: 48572.798707138114\n",
      "\n",
      "La desviación estándar en esta distribución es: 220.39237443055538\n"
     ]
    }
   ],
   "source": [
    "# Imprime la media, la varianza y la desviación estándar de la distribución\n",
    "\n",
    "print('La media de minutos utlizados en noviembre por los clientes de la tarifa Surf es de',\n",
    "      round(data_surf_monthly.query('month == 11')['total_minutes'].mean(),3),\n",
    "      'minutos')\n",
    "\n",
    "print('La varianza en esta distribución es:',\n",
    "      np.var(data_surf_monthly.query('month == 11')['total_minutes']))\n",
    "\n",
    "print('La desviación estándar en esta distribución es:', \n",
    "      np.std(data_surf_monthly.query('month == 11')['total_minutes']))"
   ]
  },
  {
   "cell_type": "code",
   "execution_count": 398,
   "metadata": {},
   "outputs": [
    {
     "data": {
      "text/plain": [
       "Text(0.5, 1.0, 'Minutos consumidos en diciembre en la tarifa Surf')"
      ]
     },
     "execution_count": 398,
     "metadata": {},
     "output_type": "execute_result"
    },
    {
     "data": {
      "image/png": "[encoded data removed]",
      "text/plain": [
       "<Figure size 864x432 with 1 Axes>"
      ]
     },
     "metadata": {
      "needs_background": "light"
     },
     "output_type": "display_data"
    }
   ],
   "source": [
    "# Minutos en llamadas utilizados por clientes Surf en diciembre\n",
    "\n",
    "data_surf_monthly.query('month == 12')['total_minutes'].hist(bins=100, figsize=(12,6))\n",
    "plt.title(label='Minutos consumidos en diciembre en la tarifa Surf')"
   ]
  },
  {
   "cell_type": "code",
   "execution_count": 399,
   "metadata": {},
   "outputs": [
    {
     "name": "stdout",
     "output_type": "stream",
     "text": [
      "La media de minutos utlizados en diciembre por los clientes de la tarifa Surf es de 484.502 minutos\n",
      "\n",
      "La varianza en esta distribución es: 59689.82556011621\n",
      "\n",
      "La desviación estándar en esta distribución es: 244.3150129650575\n"
     ]
    }
   ],
   "source": [
    "# Imprime la media, la varianza y la desviación estándar de la distribución\n",
    "\n",
    "print('La media de minutos utlizados en diciembre por los clientes de la tarifa Surf es de',\n",
    "      round(data_surf_monthly.query('month == 12')['total_minutes'].mean(),3),\n",
    "      'minutos')\n",
    "\n",
    "print('La varianza en esta distribución es:',\n",
    "      np.var(data_surf_monthly.query('month == 12')['total_minutes']))\n",
    "\n",
    "print('La desviación estándar en esta distribución es:', \n",
    "      np.std(data_surf_monthly.query('month == 12')['total_minutes']))"
   ]
  },
  {
   "cell_type": "markdown",
   "metadata": {},
   "source": [
    "### Clientes de la tarifa Ultimate\n",
    "\n",
    "Realizamos el mismo procedimiento que en el apartado anterior, esta vez para los clientes del plan Ultimate."
   ]
  },
  {
   "cell_type": "code",
   "execution_count": 400,
   "metadata": {},
   "outputs": [
    {
     "data": {
      "text/plain": [
       "array([[<AxesSubplot:title={'center':'1'}>,\n",
       "        <AxesSubplot:title={'center':'2'}>,\n",
       "        <AxesSubplot:title={'center':'3'}>],\n",
       "       [<AxesSubplot:title={'center':'4'}>,\n",
       "        <AxesSubplot:title={'center':'5'}>,\n",
       "        <AxesSubplot:title={'center':'6'}>],\n",
       "       [<AxesSubplot:title={'center':'7'}>,\n",
       "        <AxesSubplot:title={'center':'8'}>,\n",
       "        <AxesSubplot:title={'center':'9'}>],\n",
       "       [<AxesSubplot:title={'center':'10'}>,\n",
       "        <AxesSubplot:title={'center':'11'}>,\n",
       "        <AxesSubplot:title={'center':'12'}>]], dtype=object)"
      ]
     },
     "execution_count": 400,
     "metadata": {},
     "output_type": "execute_result"
    },
    {
     "data": {
      "image/png": "[encoded data removed]",
      "text/plain": [
       "<Figure size 864x432 with 12 Axes>"
      ]
     },
     "metadata": {
      "needs_background": "light"
     },
     "output_type": "display_data"
    }
   ],
   "source": [
    "# Histogramas de los datos de minutos en llamadas utilizados cada mes por los clientes Ultimate\n",
    "\n",
    "data_ultimate_monthly.hist(bins=100, figsize=(12,6),\n",
    "                         by='month', column='total_minutes')"
   ]
  },
  {
   "cell_type": "markdown",
   "metadata": {},
   "source": [
    "Para este caso vemos que los meses donde tenemos mayor número de abonados son los 3 últimos meses del año, pero para hacer una mejor comparación haremos el análisis de los meses de noviembre y diciembre para poder compararlos con los que ya hemos analizado para los clientes Surf. "
   ]
  },
  {
   "cell_type": "code",
   "execution_count": 401,
   "metadata": {},
   "outputs": [
    {
     "data": {
      "text/plain": [
       "Text(0.5, 1.0, 'Minutos consumidos en noviembre en la tarifa Ultimate')"
      ]
     },
     "execution_count": 401,
     "metadata": {},
     "output_type": "execute_result"
    },
    {
     "data": {
      "image/png": "[encoded data removed]",
      "text/plain": [
       "<Figure size 864x432 with 1 Axes>"
      ]
     },
     "metadata": {
      "needs_background": "light"
     },
     "output_type": "display_data"
    }
   ],
   "source": [
    "# Minutos en llamadas utilizados por clientes Ultimate en noviembre\n",
    "\n",
    "data_ultimate_monthly.query('month == 11')['total_minutes'].hist(bins=100, figsize=(12,6))\n",
    "plt.title(label='Minutos consumidos en noviembre en la tarifa Ultimate')"
   ]
  },
  {
   "cell_type": "code",
   "execution_count": 402,
   "metadata": {},
   "outputs": [
    {
     "name": "stdout",
     "output_type": "stream",
     "text": [
      "La media de minutos utlizados en noviembre por los clientes de la tarifa Surf es de 452.32 minutos\n",
      "\n",
      "La varianza en esta distribución es: 57856.02559999999\n",
      "\n",
      "La desviación estándar en esta distribución es: 240.53279526916904\n"
     ]
    }
   ],
   "source": [
    "# Imprime la media, la varianza y la desviación estándar de la distribución\n",
    "\n",
    "print('La media de minutos utlizados en noviembre por los clientes de la tarifa Surf es de',\n",
    "      round(data_ultimate_monthly.query('month == 11')['total_minutes'].mean(),3),\n",
    "      'minutos')\n",
    "\n",
    "print('La varianza en esta distribución es:',\n",
    "      np.var(data_ultimate_monthly.query('month == 11')['total_minutes']))\n",
    "\n",
    "print('La desviación estándar en esta distribución es:', \n",
    "      np.std(data_ultimate_monthly.query('month == 11')['total_minutes']))"
   ]
  },
  {
   "cell_type": "code",
   "execution_count": 403,
   "metadata": {},
   "outputs": [
    {
     "data": {
      "text/plain": [
       "Text(0.5, 1.0, 'Minutos consumidos en diciembre en la tarifa Ultimate')"
      ]
     },
     "execution_count": 403,
     "metadata": {},
     "output_type": "execute_result"
    },
    {
     "data": {
      "image/png": "[encoded data removed]",
      "text/plain": [
       "<Figure size 864x432 with 1 Axes>"
      ]
     },
     "metadata": {
      "needs_background": "light"
     },
     "output_type": "display_data"
    }
   ],
   "source": [
    "# Minutos en llamadas utilizados por clientes Ultimate en diciembre\n",
    "\n",
    "data_ultimate_monthly.query('month == 12')['total_minutes'].hist(bins=100, figsize=(12,6))\n",
    "plt.title(label='Minutos consumidos en diciembre en la tarifa Ultimate')"
   ]
  },
  {
   "cell_type": "code",
   "execution_count": 404,
   "metadata": {},
   "outputs": [
    {
     "name": "stdout",
     "output_type": "stream",
     "text": [
      "La media de minutos utlizados en diciembre por los clientes de la tarifa Surf es de 465.262 minutos\n",
      "\n",
      "La varianza en esta distribución es: 60056.13954326382\n",
      "\n",
      "La desviación estándar en esta distribución es: 245.0635418483619\n"
     ]
    }
   ],
   "source": [
    "# Imprime la media, la varianza y la desviación estándar de la distribución\n",
    "\n",
    "print('La media de minutos utlizados en diciembre por los clientes de la tarifa Surf es de',\n",
    "      round(income_data_ultimate_monthly.query('month == 12')['total_minutes'].mean(),3),\n",
    "      'minutos')\n",
    "\n",
    "print('La varianza en esta distribución es:',\n",
    "      np.var(income_data_ultimate_monthly.query('month == 12')['total_minutes']))\n",
    "\n",
    "print('La desviación estándar en esta distribución es:', \n",
    "      np.std(income_data_ultimate_monthly.query('month == 12')['total_minutes']))"
   ]
  },
  {
   "cell_type": "markdown",
   "metadata": {},
   "source": [
    "**Conclusiones intermedias**\n",
    "\n",
    "Las medias y las desviaciones estándar son similares para los clientes de ambas tarifas, es decir, los clientes independientemente de la tarifa que tengan contratada, tienden a tener comportamientos similares en cuanto a la duración de las llamadas.\n",
    "\n",
    "Observamos también que la distribución de los datos es normal con un sesgo hacia la derecha."
   ]
  },
  {
   "cell_type": "markdown",
   "metadata": {},
   "source": [
    "## Datos sobre los SMS enviados por mes"
   ]
  },
  {
   "cell_type": "markdown",
   "metadata": {},
   "source": [
    "### Clientes de la tarifa Surf"
   ]
  },
  {
   "cell_type": "code",
   "execution_count": 405,
   "metadata": {},
   "outputs": [
    {
     "data": {
      "text/plain": [
       "array([[<AxesSubplot:title={'center':'1'}>,\n",
       "        <AxesSubplot:title={'center':'2'}>,\n",
       "        <AxesSubplot:title={'center':'3'}>],\n",
       "       [<AxesSubplot:title={'center':'4'}>,\n",
       "        <AxesSubplot:title={'center':'5'}>,\n",
       "        <AxesSubplot:title={'center':'6'}>],\n",
       "       [<AxesSubplot:title={'center':'7'}>,\n",
       "        <AxesSubplot:title={'center':'8'}>,\n",
       "        <AxesSubplot:title={'center':'9'}>],\n",
       "       [<AxesSubplot:title={'center':'10'}>,\n",
       "        <AxesSubplot:title={'center':'11'}>,\n",
       "        <AxesSubplot:title={'center':'12'}>]], dtype=object)"
      ]
     },
     "execution_count": 405,
     "metadata": {},
     "output_type": "execute_result"
    },
    {
     "data": {
      "image/png": "[encoded data removed]",
      "text/plain": [
       "<Figure size 864x432 with 12 Axes>"
      ]
     },
     "metadata": {
      "needs_background": "light"
     },
     "output_type": "display_data"
    }
   ],
   "source": [
    "# Histogramas de los datos de SMS enviados cada mes por los clientes Surf\n",
    "\n",
    "data_surf_monthly.hist(bins=100, figsize=(12,6),\n",
    "                         by='month', column='total_messages')"
   ]
  },
  {
   "cell_type": "markdown",
   "metadata": {},
   "source": [
    "Podemos ver al igual que en el apartado anterior que los meses con mayor número de datos son significativamente los últimos meses del año. Realizaremos el análisis para los meses de noviembre y diciembre."
   ]
  },
  {
   "cell_type": "code",
   "execution_count": 406,
   "metadata": {},
   "outputs": [
    {
     "data": {
      "text/plain": [
       "Text(0.5, 1.0, 'SMS enviados en noviembre en la tarifa Surf')"
      ]
     },
     "execution_count": 406,
     "metadata": {},
     "output_type": "execute_result"
    },
    {
     "data": {
      "image/png": "[encoded data removed]",
      "text/plain": [
       "<Figure size 864x432 with 1 Axes>"
      ]
     },
     "metadata": {
      "needs_background": "light"
     },
     "output_type": "display_data"
    }
   ],
   "source": [
    "# SMS enviados por clientes Surf en noviembre\n",
    "\n",
    "data_surf_monthly.query('month == 11')['total_messages'].hist(bins=100, figsize=(12,6))\n",
    "plt.title(label='SMS enviados en noviembre en la tarifa Surf')"
   ]
  },
  {
   "cell_type": "code",
   "execution_count": 407,
   "metadata": {},
   "outputs": [
    {
     "name": "stdout",
     "output_type": "stream",
     "text": [
      "La media de SMS enviados en noviembre por los clientes de la tarifa Surf es de 32 mensajes SMS\n",
      "\n",
      "La varianza en esta distribución es: 1066.8314196718318\n",
      "\n",
      "La desviación estándar en esta distribución es: 32.662385394698774\n"
     ]
    }
   ],
   "source": [
    "# Imprime la media, la varianza y la desviación estándar de la distribución\n",
    "\n",
    "print('La media de SMS enviados en noviembre por los clientes de la tarifa Surf es de',\n",
    "      round(data_surf_monthly.query('month == 11')['total_messages'].mean()),\n",
    "      'mensajes SMS')\n",
    "\n",
    "print('La varianza en esta distribución es:',\n",
    "      np.var(data_surf_monthly.query('month == 11')['total_messages']))\n",
    "\n",
    "print('La desviación estándar en esta distribución es:', \n",
    "      np.std(data_surf_monthly.query('month == 11')['total_messages']))"
   ]
  },
  {
   "cell_type": "code",
   "execution_count": 408,
   "metadata": {},
   "outputs": [
    {
     "data": {
      "text/plain": [
       "Text(0.5, 1.0, 'SMS enviados en diciembre en la tarifa Surf')"
      ]
     },
     "execution_count": 408,
     "metadata": {},
     "output_type": "execute_result"
    },
    {
     "data": {
      "image/png": "[encoded data removed]",
      "text/plain": [
       "<Figure size 864x432 with 1 Axes>"
      ]
     },
     "metadata": {
      "needs_background": "light"
     },
     "output_type": "display_data"
    }
   ],
   "source": [
    "# SMS enviados por clientes Surf en diciembre\n",
    "\n",
    "data_surf_monthly.query('month == 12')['total_messages'].hist(bins=100, figsize=(12,6))\n",
    "plt.title(label='SMS enviados en diciembre en la tarifa Surf')"
   ]
  },
  {
   "cell_type": "code",
   "execution_count": 409,
   "metadata": {},
   "outputs": [
    {
     "name": "stdout",
     "output_type": "stream",
     "text": [
      "La media de SMS enviados en diciembre por los clientes de la tarifa Surf es de 38 mensajes SMS\n",
      "\n",
      "La varianza en esta distribución es: 1469.4662172640894\n",
      "\n",
      "La desviación estándar en esta distribución es: 38.33361732558107\n"
     ]
    }
   ],
   "source": [
    "# Imprime la media, la varianza y la desviación estándar de la distribución\n",
    "\n",
    "print('La media de SMS enviados en diciembre por los clientes de la tarifa Surf es de',\n",
    "      round(data_surf_monthly.query('month == 12')['total_messages'].mean()),\n",
    "      'mensajes SMS')\n",
    "\n",
    "print('La varianza en esta distribución es:',\n",
    "      np.var(data_surf_monthly.query('month == 12')['total_messages']))\n",
    "\n",
    "print('La desviación estándar en esta distribución es:', \n",
    "      np.std(data_surf_monthly.query('month == 12')['total_messages']))"
   ]
  },
  {
   "cell_type": "markdown",
   "metadata": {},
   "source": [
    "### Clientes de la tarifa Ultimate"
   ]
  },
  {
   "cell_type": "code",
   "execution_count": 410,
   "metadata": {},
   "outputs": [
    {
     "data": {
      "text/plain": [
       "array([[<AxesSubplot:title={'center':'1'}>,\n",
       "        <AxesSubplot:title={'center':'2'}>,\n",
       "        <AxesSubplot:title={'center':'3'}>],\n",
       "       [<AxesSubplot:title={'center':'4'}>,\n",
       "        <AxesSubplot:title={'center':'5'}>,\n",
       "        <AxesSubplot:title={'center':'6'}>],\n",
       "       [<AxesSubplot:title={'center':'7'}>,\n",
       "        <AxesSubplot:title={'center':'8'}>,\n",
       "        <AxesSubplot:title={'center':'9'}>],\n",
       "       [<AxesSubplot:title={'center':'10'}>,\n",
       "        <AxesSubplot:title={'center':'11'}>,\n",
       "        <AxesSubplot:title={'center':'12'}>]], dtype=object)"
      ]
     },
     "execution_count": 410,
     "metadata": {},
     "output_type": "execute_result"
    },
    {
     "data": {
      "image/png": "[encoded data removed]",
      "text/plain": [
       "<Figure size 864x432 with 12 Axes>"
      ]
     },
     "metadata": {
      "needs_background": "light"
     },
     "output_type": "display_data"
    }
   ],
   "source": [
    "# Histogramas de los datos de SMS enviados cada mes por los clientes Ultimate\n",
    "\n",
    "data_ultimate_monthly.hist(bins=100, figsize=(12,6),\n",
    "                         by='month', column='total_messages')"
   ]
  },
  {
   "cell_type": "code",
   "execution_count": 411,
   "metadata": {},
   "outputs": [
    {
     "data": {
      "text/plain": [
       "Text(0.5, 1.0, 'SMS enviados en noviembre en la tarifa Ultimate')"
      ]
     },
     "execution_count": 411,
     "metadata": {},
     "output_type": "execute_result"
    },
    {
     "data": {
      "image/png": "[encoded data removed]",
      "text/plain": [
       "<Figure size 864x432 with 1 Axes>"
      ]
     },
     "metadata": {
      "needs_background": "light"
     },
     "output_type": "display_data"
    }
   ],
   "source": [
    "# SMS enviados por clientes Ultimate en noviembre\n",
    "\n",
    "data_ultimate_monthly.query('month == 11')['total_messages'].hist(bins=100, figsize=(12,6))\n",
    "plt.title(label='SMS enviados en noviembre en la tarifa Ultimate')"
   ]
  },
  {
   "cell_type": "code",
   "execution_count": 412,
   "metadata": {},
   "outputs": [
    {
     "name": "stdout",
     "output_type": "stream",
     "text": [
      "La media de SMS enviados en noviembre por los clientes de la tarifa Ultimate es de 39 mensajes SMS\n",
      "\n",
      "La varianza en esta distribución es: 1231.0496\n",
      "\n",
      "La desviación estándar en esta distribución es: 35.08631642107789\n"
     ]
    }
   ],
   "source": [
    "# Imprime la media, la varianza y la desviación estándar de la distribución\n",
    "\n",
    "print('La media de SMS enviados en noviembre por los clientes de la tarifa Ultimate es de',\n",
    "      round(data_ultimate_monthly.query('month == 11')['total_messages'].mean()),\n",
    "      'mensajes SMS')\n",
    "\n",
    "print('La varianza en esta distribución es:',\n",
    "      np.var(data_ultimate_monthly.query('month == 11')['total_messages']))\n",
    "\n",
    "print('La desviación estándar en esta distribución es:', \n",
    "      np.std(data_ultimate_monthly.query('month == 11')['total_messages']))"
   ]
  },
  {
   "cell_type": "code",
   "execution_count": 413,
   "metadata": {},
   "outputs": [
    {
     "data": {
      "text/plain": [
       "Text(0.5, 1.0, 'SMS enviados en diciembre en la tarifa Ultimate')"
      ]
     },
     "execution_count": 413,
     "metadata": {},
     "output_type": "execute_result"
    },
    {
     "data": {
      "image/png": "[encoded data removed]",
      "text/plain": [
       "<Figure size 864x432 with 1 Axes>"
      ]
     },
     "metadata": {
      "needs_background": "light"
     },
     "output_type": "display_data"
    }
   ],
   "source": [
    "# SMS enviados por clientes Ultimate en diciembre\n",
    "\n",
    "data_ultimate_monthly.query('month == 12')['total_messages'].hist(bins=100, figsize=(12,6))\n",
    "plt.title(label='SMS enviados en diciembre en la tarifa Ultimate')"
   ]
  },
  {
   "cell_type": "code",
   "execution_count": 414,
   "metadata": {
    "scrolled": true
   },
   "outputs": [
    {
     "name": "stdout",
     "output_type": "stream",
     "text": [
      "La media de SMS enviados en diciembre por los clientes de la tarifa Ultimate es de 45 mensajes SMS\n",
      "\n",
      "La varianza en esta distribución es: 1538.9118508175309\n",
      "\n",
      "La desviación estándar en esta distribución es: 39.22896698636775\n"
     ]
    }
   ],
   "source": [
    "# Imprime la media, la varianza y la desviación estándar de la distribución\n",
    "\n",
    "print('La media de SMS enviados en diciembre por los clientes de la tarifa Ultimate es de',\n",
    "      round(data_ultimate_monthly.query('month == 12')['total_messages'].mean()),\n",
    "      'mensajes SMS')\n",
    "\n",
    "print('La varianza en esta distribución es:',\n",
    "      np.var(data_ultimate_monthly.query('month == 12')['total_messages']))\n",
    "\n",
    "print('La desviación estándar en esta distribución es:', \n",
    "      np.std(data_ultimate_monthly.query('month == 12')['total_messages']))"
   ]
  },
  {
   "cell_type": "markdown",
   "metadata": {},
   "source": [
    "**Conclusiones intermedias**\n",
    "\n",
    "En el caso de los SMS se puede observar una ligera diferencia en el comportamiento de los clientes. Aunque para ambos casos hay bastantes clientes que apenas envían SMS, observamos que, a pesar de que los datos sobre la distribución son similares, si nos fijamos en los gráficos vemos que los datos de los clientes Surf tienden a acumularse en un número bajo de SMS enviados (entre 0 y 50), mientras que en los clientes Ultimate encontramos los datos más dispersos con freciencias similares entre 0 y 80 SMS."
   ]
  },
  {
   "cell_type": "markdown",
   "metadata": {},
   "source": [
    "## Datos sobre los gigabytes consumidos\n",
    "\n",
    "Repetimos el prodimiento para analizar el consumo de GB en las sesiones web."
   ]
  },
  {
   "cell_type": "markdown",
   "metadata": {},
   "source": [
    "### Clientes de la tarifa Surf"
   ]
  },
  {
   "cell_type": "code",
   "execution_count": 415,
   "metadata": {},
   "outputs": [
    {
     "data": {
      "text/plain": [
       "array([[<AxesSubplot:title={'center':'1'}>,\n",
       "        <AxesSubplot:title={'center':'2'}>,\n",
       "        <AxesSubplot:title={'center':'3'}>],\n",
       "       [<AxesSubplot:title={'center':'4'}>,\n",
       "        <AxesSubplot:title={'center':'5'}>,\n",
       "        <AxesSubplot:title={'center':'6'}>],\n",
       "       [<AxesSubplot:title={'center':'7'}>,\n",
       "        <AxesSubplot:title={'center':'8'}>,\n",
       "        <AxesSubplot:title={'center':'9'}>],\n",
       "       [<AxesSubplot:title={'center':'10'}>,\n",
       "        <AxesSubplot:title={'center':'11'}>,\n",
       "        <AxesSubplot:title={'center':'12'}>]], dtype=object)"
      ]
     },
     "execution_count": 415,
     "metadata": {},
     "output_type": "execute_result"
    },
    {
     "data": {
      "image/png": "[encoded data removed]",
      "text/plain": [
       "<Figure size 864x432 with 12 Axes>"
      ]
     },
     "metadata": {
      "needs_background": "light"
     },
     "output_type": "display_data"
    }
   ],
   "source": [
    "# Histogramas de los datos de GB consumidos cada mes por los clientes Surf\n",
    "\n",
    "income_data_surf_monthly.hist(bins=100, figsize=(12,6),\n",
    "                         by='month', column='total_gb')"
   ]
  },
  {
   "cell_type": "markdown",
   "metadata": {},
   "source": [
    "Del mismo modo que en los apartados anteriores, donde más afluencia de datos encontramos es en los meses de noviembre y diciembre. "
   ]
  },
  {
   "cell_type": "code",
   "execution_count": 416,
   "metadata": {},
   "outputs": [
    {
     "data": {
      "text/plain": [
       "Text(0.5, 1.0, 'GB consumidos en noviembre en la tarifa Surf')"
      ]
     },
     "execution_count": 416,
     "metadata": {},
     "output_type": "execute_result"
    },
    {
     "data": {
      "image/png": "[encoded data removed]",
      "text/plain": [
       "<Figure size 864x432 with 1 Axes>"
      ]
     },
     "metadata": {
      "needs_background": "light"
     },
     "output_type": "display_data"
    }
   ],
   "source": [
    "# GB consumidos por clientes Surf en noviembre\n",
    "\n",
    "income_data_surf_monthly.query('month == 11')['total_gb'].hist(bins=100, figsize=(12,6))\n",
    "plt.title(label='GB consumidos en noviembre en la tarifa Surf')"
   ]
  },
  {
   "cell_type": "code",
   "execution_count": 417,
   "metadata": {},
   "outputs": [
    {
     "name": "stdout",
     "output_type": "stream",
     "text": [
      "La media de GB consumidos en noviembre por los clientes de la tarifa Surf es de 16 GB\n",
      "\n",
      "La varianza en esta distribución es: 50.90771416283283\n",
      "\n",
      "La desviación estándar en esta distribución es: 7.134964201930717\n"
     ]
    }
   ],
   "source": [
    "# Imprime la media, la varianza y la desviación estándar de la distribución\n",
    "\n",
    "print('La media de GB consumidos en noviembre por los clientes de la tarifa Surf es de',\n",
    "      round(income_data_surf_monthly.query('month == 11')['total_gb'].mean()),\n",
    "      'GB')\n",
    "\n",
    "print('La varianza en esta distribución es:',\n",
    "      np.var(income_data_surf_monthly.query('month == 11')['total_gb']))\n",
    "\n",
    "print('La desviación estándar en esta distribución es:', \n",
    "      np.std(income_data_surf_monthly.query('month == 11')['total_gb']))"
   ]
  },
  {
   "cell_type": "code",
   "execution_count": 418,
   "metadata": {},
   "outputs": [
    {
     "data": {
      "text/plain": [
       "Text(0.5, 1.0, 'GB consumidos en diciembre en la tarifa Surf')"
      ]
     },
     "execution_count": 418,
     "metadata": {},
     "output_type": "execute_result"
    },
    {
     "data": {
      "image/png": "[encoded data removed]",
      "text/plain": [
       "<Figure size 864x432 with 1 Axes>"
      ]
     },
     "metadata": {
      "needs_background": "light"
     },
     "output_type": "display_data"
    }
   ],
   "source": [
    "# GB consumidos por clientes Surf en diciembre\n",
    "\n",
    "income_data_surf_monthly.query('month == 12')['total_gb'].hist(bins=100, figsize=(12,6))\n",
    "plt.title(label='GB consumidos en diciembre en la tarifa Surf')"
   ]
  },
  {
   "cell_type": "code",
   "execution_count": 419,
   "metadata": {},
   "outputs": [
    {
     "name": "stdout",
     "output_type": "stream",
     "text": [
      "La media de GB consumidos en diciembre por los clientes de la tarifa Surf es de 18 GB\n",
      "\n",
      "La varianza en esta distribución es: 62.02667466217264\n",
      "\n",
      "La desviación estándar en esta distribución es: 7.875701534604561\n"
     ]
    }
   ],
   "source": [
    "# Imprime la media, la varianza y la desviación estándar de la distribución\n",
    "\n",
    "print('La media de GB consumidos en diciembre por los clientes de la tarifa Surf es de',\n",
    "      round(income_data_surf_monthly.query('month == 12')['total_gb'].mean()),\n",
    "      'GB')\n",
    "\n",
    "print('La varianza en esta distribución es:',\n",
    "      np.var(income_data_surf_monthly.query('month == 12')['total_gb']))\n",
    "\n",
    "print('La desviación estándar en esta distribución es:', \n",
    "      np.std(income_data_surf_monthly.query('month == 12')['total_gb']))"
   ]
  },
  {
   "cell_type": "markdown",
   "metadata": {},
   "source": [
    "### Clientes de la tarifa Ultimate"
   ]
  },
  {
   "cell_type": "code",
   "execution_count": 420,
   "metadata": {},
   "outputs": [
    {
     "data": {
      "text/plain": [
       "array([[<AxesSubplot:title={'center':'1'}>,\n",
       "        <AxesSubplot:title={'center':'2'}>,\n",
       "        <AxesSubplot:title={'center':'3'}>],\n",
       "       [<AxesSubplot:title={'center':'4'}>,\n",
       "        <AxesSubplot:title={'center':'5'}>,\n",
       "        <AxesSubplot:title={'center':'6'}>],\n",
       "       [<AxesSubplot:title={'center':'7'}>,\n",
       "        <AxesSubplot:title={'center':'8'}>,\n",
       "        <AxesSubplot:title={'center':'9'}>],\n",
       "       [<AxesSubplot:title={'center':'10'}>,\n",
       "        <AxesSubplot:title={'center':'11'}>,\n",
       "        <AxesSubplot:title={'center':'12'}>]], dtype=object)"
      ]
     },
     "execution_count": 420,
     "metadata": {},
     "output_type": "execute_result"
    },
    {
     "data": {
      "image/png": "[encoded data removed]",
      "text/plain": [
       "<Figure size 864x432 with 12 Axes>"
      ]
     },
     "metadata": {
      "needs_background": "light"
     },
     "output_type": "display_data"
    }
   ],
   "source": [
    "# Histogramas de los datos de GB consumidos cada mes por los clientes Ultimate\n",
    "\n",
    "income_data_ultimate_monthly.hist(bins=100, figsize=(12,6),\n",
    "                         by='month', column='total_gb')"
   ]
  },
  {
   "cell_type": "code",
   "execution_count": 421,
   "metadata": {},
   "outputs": [
    {
     "data": {
      "text/plain": [
       "Text(0.5, 1.0, 'GB consumidos en noviembre en la tarifa Ultimate')"
      ]
     },
     "execution_count": 421,
     "metadata": {},
     "output_type": "execute_result"
    },
    {
     "data": {
      "image/png": "[encoded data removed]",
      "text/plain": [
       "<Figure size 864x432 with 1 Axes>"
      ]
     },
     "metadata": {
      "needs_background": "light"
     },
     "output_type": "display_data"
    }
   ],
   "source": [
    "# GB consumidos por clientes Ultimate en noviembre\n",
    "\n",
    "income_data_ultimate_monthly.query('month == 11')['total_gb'].hist(bins=100, figsize=(12,6))\n",
    "plt.title(label='GB consumidos en noviembre en la tarifa Ultimate')"
   ]
  },
  {
   "cell_type": "code",
   "execution_count": 422,
   "metadata": {},
   "outputs": [
    {
     "name": "stdout",
     "output_type": "stream",
     "text": [
      "La media de GB consumidos en noviembre por los clientes de la tarifa Ultimate es de 17 GB\n",
      "\n",
      "La varianza en esta distribución es: 52.617343999999996\n",
      "\n",
      "La desviación estándar en esta distribución es: 7.253781358712158\n"
     ]
    }
   ],
   "source": [
    "# Imprime la media, la varianza y la desviación estándar de la distribución\n",
    "\n",
    "print('La media de GB consumidos en noviembre por los clientes de la tarifa Ultimate es de',\n",
    "      round(income_data_ultimate_monthly.query('month == 11')['total_gb'].mean()),\n",
    "      'GB')\n",
    "\n",
    "print('La varianza en esta distribución es:',\n",
    "      np.var(income_data_ultimate_monthly.query('month == 11')['total_gb']))\n",
    "\n",
    "print('La desviación estándar en esta distribución es:', \n",
    "      np.std(income_data_ultimate_monthly.query('month == 11')['total_gb']))"
   ]
  },
  {
   "cell_type": "code",
   "execution_count": 423,
   "metadata": {},
   "outputs": [
    {
     "data": {
      "text/plain": [
       "Text(0.5, 1.0, 'GB consumidos en diciembre en la tarifa Ultimate')"
      ]
     },
     "execution_count": 423,
     "metadata": {},
     "output_type": "execute_result"
    },
    {
     "data": {
      "image/png": "[encoded data removed]",
      "text/plain": [
       "<Figure size 864x432 with 1 Axes>"
      ]
     },
     "metadata": {
      "needs_background": "light"
     },
     "output_type": "display_data"
    }
   ],
   "source": [
    "# GB consumidos por clientes Ultimate en diciembre\n",
    "\n",
    "income_data_ultimate_monthly.query('month == 12')['total_gb'].hist(bins=100, figsize=(12,6))\n",
    "plt.title(label='GB consumidos en diciembre en la tarifa Ultimate')"
   ]
  },
  {
   "cell_type": "code",
   "execution_count": 424,
   "metadata": {},
   "outputs": [
    {
     "name": "stdout",
     "output_type": "stream",
     "text": [
      "La media de GB consumidos en diciembre por los clientes de la tarifa Ultimate es de 18 GB\n",
      "\n",
      "La varianza en esta distribución es: 55.125084455655156\n",
      "\n",
      "La desviación estándar en esta distribución es: 7.424626889996234\n"
     ]
    }
   ],
   "source": [
    "# Imprime la media, la varianza y la desviación estándar de la distribución\n",
    "\n",
    "print('La media de GB consumidos en diciembre por los clientes de la tarifa Ultimate es de',\n",
    "      round(income_data_ultimate_monthly.query('month == 12')['total_gb'].mean()),\n",
    "      'GB')\n",
    "\n",
    "print('La varianza en esta distribución es:',\n",
    "      np.var(income_data_ultimate_monthly.query('month == 12')['total_gb']))\n",
    "\n",
    "print('La desviación estándar en esta distribución es:', \n",
    "      np.std(income_data_ultimate_monthly.query('month == 12')['total_gb']))"
   ]
  },
  {
   "cell_type": "markdown",
   "metadata": {},
   "source": [
    "**Conclusiones intermedias**\n",
    "\n",
    "En estos datos encontramos una distribución normal ligeramente sesgada hacia la derecha, pero con datos similares nuevamente.\n",
    "\n",
    "Observamos también que la dispersión de los datos en el gráfico es prácticamente igual para ambos casos, ya que la el valor de la desviación estándar está sobre 7."
   ]
  },
  {
   "cell_type": "markdown",
   "metadata": {},
   "source": [
    "## Conclusiones y siguientes pasos"
   ]
  },
  {
   "cell_type": "markdown",
   "metadata": {},
   "source": [
    "**Conclusiones**\n",
    "\n",
    "Tras analizar el comportamiento de los clientes y las distribuciones de los datos podemos concluir lo siguiente:\n",
    "\n",
    " - La compañía ha tenido un incremento significativo de abonados en el último trimestre del año.\n",
    " - Los clientes tienen prácticamente el mismo comportamiento en el consumo de recursos, independientemente de la tarifa.\n",
    " - La distribución de los datos es igual y se mantiene de forma proporcional a lo largo del año a partir del segundo trimestre del año, donde empieza a haber un número mayor de abonados.\n",
    " -  En el último trimestre, a excepción de la cantidad de valores atípicos cercanos a 0 sobre los SMS enviado, tenemos una distribución normal para los tres tipos de recursos y con una asimetría positiva en los datos.\n",
    " - Los valores promedio de los recursos utilizados en los clientes Ultimate no superan los límites de la tarifa, en cambio ésto si ocurre para los clientes Surf.\n",
    " \n",
    "**Siguientes pasos**\n",
    "\n",
    "Una vez vista la distribución de los datos, vamos a probar las dos hipótesis que formulamos al principio, para las cuales utilizaremos los datos que acabamos de obtener."
   ]
  },
  {
   "cell_type": "markdown",
   "metadata": {},
   "source": [
    "# Prueba las hipótesis"
   ]
  },
  {
   "cell_type": "markdown",
   "metadata": {},
   "source": [
    "Finalmente probaremos las hipótesis formuladas al principio, empezando por la hipótesis en la que afirmamos que el ingreso promedio de los usuarios de las tarifas Surf y Ultimate difiere.\n",
    "\n",
    "Después comprobaremos la hipótesis referente a que los ingresos de los usuarios en el área de los estados de Nueva York y Nueva Jersey es diferente al del resto de los usuarios.\n",
    "\n",
    "Para probar la segunda hipótesis, añadiremos la columna de la ciudad del usuario al conjunto de datos `income_data`."
   ]
  },
  {
   "cell_type": "code",
   "execution_count": 425,
   "metadata": {},
   "outputs": [],
   "source": [
    "# Añade la columna \"city\" al DataFrame \"income_data\"\n",
    "\n",
    "users_city = users_data[['user_id', 'city']].set_index('user_id')\n",
    "\n",
    "income_data = income_data.merge(users_city, how='inner', on='user_id')"
   ]
  },
  {
   "cell_type": "markdown",
   "metadata": {},
   "source": [
    "## Primera hipótesis. El ingreso promedio entre usuarios de diferentes tarifas difiere.\n",
    "\n",
    "En este caso supondremos como hipótesis nula la afirmación de que el ingreso promedio entre clientes de las tarifas Surf y Ultimate no difiere: \n",
    "\n",
    "\\begin{equation}\n",
    "H_0: µ_1=µ_2\n",
    "\\end{equation}\n",
    "\n",
    "Por lo tanto, la hipótesis alternativa será que éste sí difiere:\n",
    "\n",
    "\\begin{equation}\n",
    "H_1: µ_1\\neqµ_2\n",
    "\\end{equation}\n"
   ]
  },
  {
   "cell_type": "markdown",
   "metadata": {},
   "source": [
    "Comparamos los ingresos mensuales del último trimestre de los clientes de ambos planes, dónde `income_surf` es el conjunto de ingresos menusales de los clientes de la tarifa Surf en el último trimestre del año e `income_ult` es el conjunto de ingresos menusales de los clientes de la tarifa Ultimate.\n",
    "\n",
    "Establecemos el nivel de significancia (`alpha`) en 0.05%."
   ]
  },
  {
   "cell_type": "code",
   "execution_count": 426,
   "metadata": {},
   "outputs": [
    {
     "name": "stdout",
     "output_type": "stream",
     "text": [
      "p-value:  0.003756685589120898\n",
      "\n",
      "Rechazamos la hipótesis nula\n"
     ]
    }
   ],
   "source": [
    "income_surf = income_data.query('plan == \"surf\" and month > 9')['income']\n",
    "income_ult = income_data.query('plan == \"ultimate\" and month > 9')['income']\n",
    "\n",
    "alpha = 0.05\n",
    "\n",
    "results = st.ttest_ind(income_surf, income_ult)\n",
    "\n",
    "print('p-value: ', results.pvalue)\n",
    "if results.pvalue < alpha:\n",
    "    print('Rechazamos la hipótesis nula')\n",
    "else:\n",
    "    print(\"No rechazamos la hipótesis nula\")"
   ]
  },
  {
   "cell_type": "markdown",
   "metadata": {},
   "source": [
    "La probabilidad de que los ingresos de los clientes del plan Surf sea similar al de los clientes del plan Ultimate es de un 0.003%, de este modo rechazamos la hipótesis de que el ingreso promedio de los clientes de ambas tarifas no difiere y podemos aceptar la hipótesis que planteamos al inicio de que **el ingreso promedio sí difiere**."
   ]
  },
  {
   "cell_type": "markdown",
   "metadata": {},
   "source": [
    "## Segunda hipótesis. El ingreso promedio de los usuarios de NY y NJ difiere del resto.\n",
    "\n",
    "Para este segundo caso supondremos como hipótesis nula la afirmación de que el ingreso promedio entre clientes del área de estados de Nueva York - Nueva Jersey no difiere: \n",
    "\n",
    "\\begin{equation}\n",
    "H_0: µ_1=µ_2\n",
    "\\end{equation}\n",
    "\n",
    "Por lo tanto, la hipótesis alternativa será que éste sí difiere:\n",
    "\n",
    "\\begin{equation}\n",
    "H_1: µ_1\\neqµ_2\n",
    "\\end{equation}\n"
   ]
  },
  {
   "cell_type": "markdown",
   "metadata": {},
   "source": [
    "Para el estudio de esta hipótesis necesitamos poder diferenciar los clientes que viven en los estados de Nueva York y Nueva Jersey del resto.\n",
    "Como tenemos la columna `city` en nuestro DataFrame `income_data` en la que aparece el estado al que pertenece la ciudad, definimos la función `is_ny_nj` que comprueba que en el valor de ese campo se encuentre \"NY\" de Nueva York o \"NJ\" de Nueva Jersey y devuelva `True` en caso de aparecer o `False` en caso de no aparecer y guardamos ese valor en la columna `ny_nj`."
   ]
  },
  {
   "cell_type": "code",
   "execution_count": 428,
   "metadata": {},
   "outputs": [],
   "source": [
    "# Función para comprobar si en el campo 'city' aparece el estado \"NY\" o \"NJ\"\n",
    "\n",
    "def is_ny_nj(row):\n",
    "    state = row['city']\n",
    "    if 'NY' in state:\n",
    "        return True\n",
    "    elif 'NJ' in state:\n",
    "        return True\n",
    "    else:\n",
    "        return False"
   ]
  },
  {
   "cell_type": "code",
   "execution_count": 430,
   "metadata": {},
   "outputs": [],
   "source": [
    "#Aplica la función\n",
    "income_data['ny_nj'] = income_data.apply(is_ny_nj, axis=1)"
   ]
  },
  {
   "cell_type": "markdown",
   "metadata": {},
   "source": [
    "Comparamos los ingresos mensuales del último trimestre de los clientes del conjunto del clientes de los estados de Nueva York y Nueva Jersey, dónde `income_ny_nj` es el conjunto de ingresos menusales de los clientes de NY y NJ e `income_other` es el conjunto de ingresos menusales de los clientes del resto de estados.\n",
    "\n",
    "Establecemos el nivel de significancia (`alpha`) en 0.05%."
   ]
  },
  {
   "cell_type": "code",
   "execution_count": 431,
   "metadata": {},
   "outputs": [
    {
     "name": "stdout",
     "output_type": "stream",
     "text": [
      "p-value:  0.06215318035423252\n",
      "\n",
      "No rechazamos la hipótesis nula\n"
     ]
    }
   ],
   "source": [
    "income_ny_nj = income_data.query('ny_nj == True')['income']\n",
    "income_other = income_data.query('ny_nj == False')['income']\n",
    "\n",
    "alpha = 0.05\n",
    "\n",
    "results = st.ttest_ind(income_ny_nj, income_other)\n",
    "\n",
    "print('p-value: ', results.pvalue)\n",
    "if results.pvalue < alpha:\n",
    "    print('Rechazamos la hipótesis nula')\n",
    "else:\n",
    "    print(\"No rechazamos la hipótesis nula\")"
   ]
  },
  {
   "cell_type": "markdown",
   "metadata": {},
   "source": [
    "La probabilidad de que el ingreso promedio de un cliente del área de estados Nueva York - Nueva Jersey no difiera del resto de regiones es de un 0.06%. Es baja pero no lo suficientemente baja como para rechazar la hipótesis nula.\n",
    "\n",
    "Por lo tanto, no podemos afirmar que la hipótesis de que el ingreso promedio de los clientes de este área sea diferente al del resto de clientes."
   ]
  },
  {
   "cell_type": "markdown",
   "metadata": {},
   "source": [
    "# Conclusión general"
   ]
  },
  {
   "cell_type": "markdown",
   "metadata": {},
   "source": [
    "Haciendo un resumen de las observaciones que hemos obtenido durante el análisis podemos concluir los siguientes enunciados:\n",
    "\n",
    " 1. El comportamiento de los usuarios en cuanto al consumo de los recursos sobre minutos de llamada, SMS enviados y gigabytes de datos consumidos es similar para todo el conjunto de datos, independientemente del plan contratado por los usuarios.\n",
    " 2. Hemos afirmado la hipótesis sobre que el ingreso promedio de los usuarios de las tarifas Surf y Ultimate difiere.\n",
    " 3. No hemos podido afirmar la hipótesis sobre que el ingreso promedio de los usuarios del área de estados Nueva York-Nueva Jersey sea diferente al de los usuarios de otros estados."
   ]
  }
 ],
 "metadata": {
  "kernelspec": {
   "display_name": "Python 3 (ipykernel)",
   "language": "python",
   "name": "python3"
  },
  "language_info": {
   "codemirror_mode": {
    "name": "ipython",
    "version": 3
   },
   "file_extension": ".py",
   "mimetype": "text/x-python",
   "name": "python",
   "nbconvert_exporter": "python",
   "pygments_lexer": "ipython3",
   "version": "3.9.12"
  },
  "toc": {
   "base_numbering": "1.",
   "nav_menu": {},
   "number_sections": false,
   "sideBar": true,
   "skip_h1_title": false,
   "title_cell": "Tabla de contenido",
   "title_sidebar": "Contents",
   "toc_cell": true,
   "toc_position": {
    "height": "calc(100% - 180px)",
    "left": "10px",
    "top": "150px",
    "width": "352.475px"
   },
   "toc_section_display": true,
   "toc_window_display": true
  }
 },
 "nbformat": 4,
 "nbformat_minor": 4
}
